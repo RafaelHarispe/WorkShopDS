{
 "cells": [
  {
   "cell_type": "code",
   "execution_count": 126,
   "metadata": {},
   "outputs": [],
   "source": [
    "import pandas as pd\n",
    "import numpy as np\n",
    "from datetime import datetime\n",
    "\n",
    "cinta = pd.read_excel('Cinta.xlsx', sheet_name='RECIBOSD')\n"
   ]
  },
  {
   "cell_type": "code",
   "execution_count": 127,
   "metadata": {},
   "outputs": [
    {
     "data": {
      "text/html": [
       "<div>\n",
       "<style scoped>\n",
       "    .dataframe tbody tr th:only-of-type {\n",
       "        vertical-align: middle;\n",
       "    }\n",
       "\n",
       "    .dataframe tbody tr th {\n",
       "        vertical-align: top;\n",
       "    }\n",
       "\n",
       "    .dataframe thead th {\n",
       "        text-align: right;\n",
       "    }\n",
       "</style>\n",
       "<table border=\"1\" class=\"dataframe\">\n",
       "  <thead>\n",
       "    <tr style=\"text-align: right;\">\n",
       "      <th></th>\n",
       "      <th>RAMO</th>\n",
       "      <th>CERTIFICADO</th>\n",
       "      <th>NROCOTA</th>\n",
       "      <th>PRODUCTO</th>\n",
       "      <th>FEMISION</th>\n",
       "      <th>FENVIO</th>\n",
       "      <th>MONTO</th>\n",
       "    </tr>\n",
       "  </thead>\n",
       "  <tbody>\n",
       "    <tr>\n",
       "      <td>0</td>\n",
       "      <td>18</td>\n",
       "      <td>123</td>\n",
       "      <td>2</td>\n",
       "      <td>FFULL</td>\n",
       "      <td>2019-01-03</td>\n",
       "      <td>2019-01-17</td>\n",
       "      <td>123.0</td>\n",
       "    </tr>\n",
       "    <tr>\n",
       "      <td>1</td>\n",
       "      <td>18</td>\n",
       "      <td>123</td>\n",
       "      <td>2</td>\n",
       "      <td>FFULL</td>\n",
       "      <td>2019-01-03</td>\n",
       "      <td>2019-02-17</td>\n",
       "      <td>123.0</td>\n",
       "    </tr>\n",
       "    <tr>\n",
       "      <td>2</td>\n",
       "      <td>18</td>\n",
       "      <td>123</td>\n",
       "      <td>3</td>\n",
       "      <td>FFULL</td>\n",
       "      <td>2019-02-03</td>\n",
       "      <td>2019-02-17</td>\n",
       "      <td>123.0</td>\n",
       "    </tr>\n",
       "    <tr>\n",
       "      <td>3</td>\n",
       "      <td>18</td>\n",
       "      <td>543</td>\n",
       "      <td>15</td>\n",
       "      <td>FFULL</td>\n",
       "      <td>2019-02-14</td>\n",
       "      <td>2019-02-17</td>\n",
       "      <td>500.0</td>\n",
       "    </tr>\n",
       "    <tr>\n",
       "      <td>4</td>\n",
       "      <td>1</td>\n",
       "      <td>123</td>\n",
       "      <td>3</td>\n",
       "      <td>HOG</td>\n",
       "      <td>2019-02-10</td>\n",
       "      <td>2019-02-17</td>\n",
       "      <td>12.8</td>\n",
       "    </tr>\n",
       "  </tbody>\n",
       "</table>\n",
       "</div>"
      ],
      "text/plain": [
       "   RAMO  CERTIFICADO  NROCOTA PRODUCTO   FEMISION     FENVIO  MONTO\n",
       "0    18          123        2    FFULL 2019-01-03 2019-01-17  123.0\n",
       "1    18          123        2    FFULL 2019-01-03 2019-02-17  123.0\n",
       "2    18          123        3    FFULL 2019-02-03 2019-02-17  123.0\n",
       "3    18          543       15    FFULL 2019-02-14 2019-02-17  500.0\n",
       "4     1          123        3      HOG 2019-02-10 2019-02-17   12.8"
      ]
     },
     "execution_count": 127,
     "metadata": {},
     "output_type": "execute_result"
    }
   ],
   "source": [
    "cinta"
   ]
  },
  {
   "cell_type": "markdown",
   "metadata": {},
   "source": [
    "### Se clasifica si el recibo es nuevo o viejo segun la fecha (se puede tomar otras opciones o traer de la base)"
   ]
  },
  {
   "cell_type": "code",
   "execution_count": 128,
   "metadata": {},
   "outputs": [
    {
     "data": {
      "text/html": [
       "<div>\n",
       "<style scoped>\n",
       "    .dataframe tbody tr th:only-of-type {\n",
       "        vertical-align: middle;\n",
       "    }\n",
       "\n",
       "    .dataframe tbody tr th {\n",
       "        vertical-align: top;\n",
       "    }\n",
       "\n",
       "    .dataframe thead th {\n",
       "        text-align: right;\n",
       "    }\n",
       "</style>\n",
       "<table border=\"1\" class=\"dataframe\">\n",
       "  <thead>\n",
       "    <tr style=\"text-align: right;\">\n",
       "      <th></th>\n",
       "      <th>RAMO</th>\n",
       "      <th>CERTIFICADO</th>\n",
       "      <th>NROCOTA</th>\n",
       "      <th>PRODUCTO</th>\n",
       "      <th>FEMISION</th>\n",
       "      <th>FENVIO</th>\n",
       "      <th>MONTO</th>\n",
       "      <th>FACTURACION</th>\n",
       "      <th>MENVIO</th>\n",
       "    </tr>\n",
       "  </thead>\n",
       "  <tbody>\n",
       "    <tr>\n",
       "      <td>0</td>\n",
       "      <td>18</td>\n",
       "      <td>123</td>\n",
       "      <td>2</td>\n",
       "      <td>FFULL</td>\n",
       "      <td>2019-01-03</td>\n",
       "      <td>2019-01-17</td>\n",
       "      <td>123.0</td>\n",
       "      <td>NUEVO</td>\n",
       "      <td>January</td>\n",
       "    </tr>\n",
       "    <tr>\n",
       "      <td>1</td>\n",
       "      <td>18</td>\n",
       "      <td>123</td>\n",
       "      <td>2</td>\n",
       "      <td>FFULL</td>\n",
       "      <td>2019-01-03</td>\n",
       "      <td>2019-02-17</td>\n",
       "      <td>123.0</td>\n",
       "      <td>OLD</td>\n",
       "      <td>February</td>\n",
       "    </tr>\n",
       "    <tr>\n",
       "      <td>2</td>\n",
       "      <td>18</td>\n",
       "      <td>123</td>\n",
       "      <td>3</td>\n",
       "      <td>FFULL</td>\n",
       "      <td>2019-02-03</td>\n",
       "      <td>2019-02-17</td>\n",
       "      <td>123.0</td>\n",
       "      <td>NUEVO</td>\n",
       "      <td>February</td>\n",
       "    </tr>\n",
       "    <tr>\n",
       "      <td>3</td>\n",
       "      <td>18</td>\n",
       "      <td>543</td>\n",
       "      <td>15</td>\n",
       "      <td>FFULL</td>\n",
       "      <td>2019-02-14</td>\n",
       "      <td>2019-02-17</td>\n",
       "      <td>500.0</td>\n",
       "      <td>NUEVO</td>\n",
       "      <td>February</td>\n",
       "    </tr>\n",
       "    <tr>\n",
       "      <td>4</td>\n",
       "      <td>1</td>\n",
       "      <td>123</td>\n",
       "      <td>3</td>\n",
       "      <td>HOG</td>\n",
       "      <td>2019-02-10</td>\n",
       "      <td>2019-02-17</td>\n",
       "      <td>12.8</td>\n",
       "      <td>NUEVO</td>\n",
       "      <td>February</td>\n",
       "    </tr>\n",
       "  </tbody>\n",
       "</table>\n",
       "</div>"
      ],
      "text/plain": [
       "   RAMO  CERTIFICADO  NROCOTA PRODUCTO   FEMISION     FENVIO  MONTO  \\\n",
       "0    18          123        2    FFULL 2019-01-03 2019-01-17  123.0   \n",
       "1    18          123        2    FFULL 2019-01-03 2019-02-17  123.0   \n",
       "2    18          123        3    FFULL 2019-02-03 2019-02-17  123.0   \n",
       "3    18          543       15    FFULL 2019-02-14 2019-02-17  500.0   \n",
       "4     1          123        3      HOG 2019-02-10 2019-02-17   12.8   \n",
       "\n",
       "  FACTURACION    MENVIO  \n",
       "0       NUEVO   January  \n",
       "1         OLD  February  \n",
       "2       NUEVO  February  \n",
       "3       NUEVO  February  \n",
       "4       NUEVO  February  "
      ]
     },
     "execution_count": 128,
     "metadata": {},
     "output_type": "execute_result"
    }
   ],
   "source": [
    "cinta['FACTURACION'] = cinta.apply(lambda x: 'OLD' if x.FENVIO - x.FEMISION > np.timedelta64(30, 'D') else 'NUEVO', axis = 1)\n",
    "cinta['MENVIO'] = cinta.FENVIO.apply(lambda x:x.strftime('%B'))\n",
    "cinta.head()"
   ]
  },
  {
   "cell_type": "markdown",
   "metadata": {},
   "source": [
    "## Utilizando GroupBy"
   ]
  },
  {
   "cell_type": "code",
   "execution_count": 131,
   "metadata": {},
   "outputs": [
    {
     "data": {
      "text/html": [
       "<div>\n",
       "<style scoped>\n",
       "    .dataframe tbody tr th:only-of-type {\n",
       "        vertical-align: middle;\n",
       "    }\n",
       "\n",
       "    .dataframe tbody tr th {\n",
       "        vertical-align: top;\n",
       "    }\n",
       "\n",
       "    .dataframe thead th {\n",
       "        text-align: right;\n",
       "    }\n",
       "</style>\n",
       "<table border=\"1\" class=\"dataframe\">\n",
       "  <thead>\n",
       "    <tr style=\"text-align: right;\">\n",
       "      <th></th>\n",
       "      <th></th>\n",
       "      <th></th>\n",
       "      <th>MONTO</th>\n",
       "      <th>CANTIDAD</th>\n",
       "    </tr>\n",
       "    <tr>\n",
       "      <th>PRODUCTO</th>\n",
       "      <th>FACTURACION</th>\n",
       "      <th>MENVIO</th>\n",
       "      <th></th>\n",
       "      <th></th>\n",
       "    </tr>\n",
       "  </thead>\n",
       "  <tbody>\n",
       "    <tr>\n",
       "      <td rowspan=\"3\" valign=\"top\">FFULL</td>\n",
       "      <td rowspan=\"2\" valign=\"top\">NUEVO</td>\n",
       "      <td>February</td>\n",
       "      <td>623.0</td>\n",
       "      <td>2</td>\n",
       "    </tr>\n",
       "    <tr>\n",
       "      <td>January</td>\n",
       "      <td>123.0</td>\n",
       "      <td>1</td>\n",
       "    </tr>\n",
       "    <tr>\n",
       "      <td>OLD</td>\n",
       "      <td>February</td>\n",
       "      <td>123.0</td>\n",
       "      <td>1</td>\n",
       "    </tr>\n",
       "    <tr>\n",
       "      <td>HOG</td>\n",
       "      <td>NUEVO</td>\n",
       "      <td>February</td>\n",
       "      <td>12.8</td>\n",
       "      <td>1</td>\n",
       "    </tr>\n",
       "  </tbody>\n",
       "</table>\n",
       "</div>"
      ],
      "text/plain": [
       "                               MONTO  CANTIDAD\n",
       "PRODUCTO FACTURACION MENVIO                   \n",
       "FFULL    NUEVO       February  623.0         2\n",
       "                     January   123.0         1\n",
       "         OLD         February  123.0         1\n",
       "HOG      NUEVO       February   12.8         1"
      ]
     },
     "execution_count": 131,
     "metadata": {},
     "output_type": "execute_result"
    }
   ],
   "source": [
    "cosecha2 = cinta.groupby(['PRODUCTO', 'FACTURACION', 'MENVIO'])['MONTO'].\\\n",
    "    agg(['sum', 'count']).\\\n",
    "    rename(columns = {'sum':'MONTO', 'count': 'CANTIDAD'})\n",
    "cosecha2.head()"
   ]
  },
  {
   "cell_type": "code",
   "execution_count": 132,
   "metadata": {},
   "outputs": [
    {
     "data": {
      "text/html": [
       "<div>\n",
       "<style scoped>\n",
       "    .dataframe tbody tr th:only-of-type {\n",
       "        vertical-align: middle;\n",
       "    }\n",
       "\n",
       "    .dataframe tbody tr th {\n",
       "        vertical-align: top;\n",
       "    }\n",
       "\n",
       "    .dataframe thead tr th {\n",
       "        text-align: left;\n",
       "    }\n",
       "\n",
       "    .dataframe thead tr:last-of-type th {\n",
       "        text-align: right;\n",
       "    }\n",
       "</style>\n",
       "<table border=\"1\" class=\"dataframe\">\n",
       "  <thead>\n",
       "    <tr>\n",
       "      <th>PRODUCTO</th>\n",
       "      <th colspan=\"2\" halign=\"left\">FFULL</th>\n",
       "      <th>HOG</th>\n",
       "    </tr>\n",
       "    <tr>\n",
       "      <th>FACTURACION</th>\n",
       "      <th>NUEVO</th>\n",
       "      <th>OLD</th>\n",
       "      <th>NUEVO</th>\n",
       "    </tr>\n",
       "    <tr>\n",
       "      <th>MENVIO</th>\n",
       "      <th></th>\n",
       "      <th></th>\n",
       "      <th></th>\n",
       "    </tr>\n",
       "  </thead>\n",
       "  <tbody>\n",
       "    <tr>\n",
       "      <td>February</td>\n",
       "      <td>623.0</td>\n",
       "      <td>123.0</td>\n",
       "      <td>12.8</td>\n",
       "    </tr>\n",
       "    <tr>\n",
       "      <td>January</td>\n",
       "      <td>123.0</td>\n",
       "      <td>NaN</td>\n",
       "      <td>NaN</td>\n",
       "    </tr>\n",
       "  </tbody>\n",
       "</table>\n",
       "</div>"
      ],
      "text/plain": [
       "PRODUCTO     FFULL          HOG\n",
       "FACTURACION  NUEVO    OLD NUEVO\n",
       "MENVIO                         \n",
       "February     623.0  123.0  12.8\n",
       "January      123.0    NaN   NaN"
      ]
     },
     "execution_count": 132,
     "metadata": {},
     "output_type": "execute_result"
    }
   ],
   "source": [
    "cosecha2['MONTO'].unstack(level=[0,1])"
   ]
  },
  {
   "cell_type": "code",
   "execution_count": 133,
   "metadata": {
    "scrolled": false
   },
   "outputs": [
    {
     "data": {
      "text/plain": [
       "<matplotlib.axes._subplots.AxesSubplot at 0x187bc0e2fc8>"
      ]
     },
     "execution_count": 133,
     "metadata": {},
     "output_type": "execute_result"
    },
    {
     "data": {
      "image/png": "[encoded data removed]",
      "text/plain": [
       "<Figure size 432x288 with 1 Axes>"
      ]
     },
     "metadata": {
      "needs_background": "light"
     },
     "output_type": "display_data"
    }
   ],
   "source": [
    "%matplotlib inline\n",
    "cosecha2['MONTO'].unstack(level=[0,1]).plot(kind = 'bar', stacked = True)"
   ]
  },
  {
   "cell_type": "code",
   "execution_count": 134,
   "metadata": {},
   "outputs": [
    {
     "data": {
      "text/html": [
       "<div>\n",
       "<style scoped>\n",
       "    .dataframe tbody tr th:only-of-type {\n",
       "        vertical-align: middle;\n",
       "    }\n",
       "\n",
       "    .dataframe tbody tr th {\n",
       "        vertical-align: top;\n",
       "    }\n",
       "\n",
       "    .dataframe thead tr th {\n",
       "        text-align: left;\n",
       "    }\n",
       "\n",
       "    .dataframe thead tr:last-of-type th {\n",
       "        text-align: right;\n",
       "    }\n",
       "</style>\n",
       "<table border=\"1\" class=\"dataframe\">\n",
       "  <thead>\n",
       "    <tr>\n",
       "      <th>PRODUCTO</th>\n",
       "      <th colspan=\"2\" halign=\"left\">FFULL</th>\n",
       "      <th>HOG</th>\n",
       "    </tr>\n",
       "    <tr>\n",
       "      <th>FACTURACION</th>\n",
       "      <th>NUEVO</th>\n",
       "      <th>OLD</th>\n",
       "      <th>NUEVO</th>\n",
       "    </tr>\n",
       "    <tr>\n",
       "      <th>MENVIO</th>\n",
       "      <th></th>\n",
       "      <th></th>\n",
       "      <th></th>\n",
       "    </tr>\n",
       "  </thead>\n",
       "  <tbody>\n",
       "    <tr>\n",
       "      <td>February</td>\n",
       "      <td>2.0</td>\n",
       "      <td>1.0</td>\n",
       "      <td>1.0</td>\n",
       "    </tr>\n",
       "    <tr>\n",
       "      <td>January</td>\n",
       "      <td>1.0</td>\n",
       "      <td>NaN</td>\n",
       "      <td>NaN</td>\n",
       "    </tr>\n",
       "  </tbody>\n",
       "</table>\n",
       "</div>"
      ],
      "text/plain": [
       "PRODUCTO    FFULL        HOG\n",
       "FACTURACION NUEVO  OLD NUEVO\n",
       "MENVIO                      \n",
       "February      2.0  1.0   1.0\n",
       "January       1.0  NaN   NaN"
      ]
     },
     "execution_count": 134,
     "metadata": {},
     "output_type": "execute_result"
    }
   ],
   "source": [
    "cosecha2['CANTIDAD'].unstack(level=[0,1])"
   ]
  },
  {
   "cell_type": "code",
   "execution_count": 135,
   "metadata": {},
   "outputs": [
    {
     "data": {
      "text/plain": [
       "<matplotlib.axes._subplots.AxesSubplot at 0x187bb9ec288>"
      ]
     },
     "execution_count": 135,
     "metadata": {},
     "output_type": "execute_result"
    },
    {
     "data": {
      "image/png": "[encoded data removed]",
      "text/plain": [
       "<Figure size 432x288 with 1 Axes>"
      ]
     },
     "metadata": {
      "needs_background": "light"
     },
     "output_type": "display_data"
    }
   ],
   "source": [
    "cosecha2['CANTIDAD'].unstack(level=[0,1]).plot(kind = 'bar', stacked = True)"
   ]
  },
  {
   "cell_type": "markdown",
   "metadata": {},
   "source": [
    "## Utillizando Pivot Table"
   ]
  },
  {
   "cell_type": "code",
   "execution_count": 136,
   "metadata": {},
   "outputs": [
    {
     "data": {
      "text/html": [
       "<div>\n",
       "<style scoped>\n",
       "    .dataframe tbody tr th:only-of-type {\n",
       "        vertical-align: middle;\n",
       "    }\n",
       "\n",
       "    .dataframe tbody tr th {\n",
       "        vertical-align: top;\n",
       "    }\n",
       "\n",
       "    .dataframe thead th {\n",
       "        text-align: right;\n",
       "    }\n",
       "</style>\n",
       "<table border=\"1\" class=\"dataframe\">\n",
       "  <thead>\n",
       "    <tr style=\"text-align: right;\">\n",
       "      <th></th>\n",
       "      <th>RAMO</th>\n",
       "      <th>CERTIFICADO</th>\n",
       "      <th>NROCOTA</th>\n",
       "      <th>PRODUCTO</th>\n",
       "      <th>FEMISION</th>\n",
       "      <th>FENVIO</th>\n",
       "      <th>MONTO</th>\n",
       "      <th>FACTURACION</th>\n",
       "      <th>MENVIO</th>\n",
       "    </tr>\n",
       "  </thead>\n",
       "  <tbody>\n",
       "    <tr>\n",
       "      <td>0</td>\n",
       "      <td>18</td>\n",
       "      <td>123</td>\n",
       "      <td>2</td>\n",
       "      <td>FFULL</td>\n",
       "      <td>2019-01-03</td>\n",
       "      <td>2019-01-17</td>\n",
       "      <td>123.0</td>\n",
       "      <td>NUEVO</td>\n",
       "      <td>January</td>\n",
       "    </tr>\n",
       "    <tr>\n",
       "      <td>1</td>\n",
       "      <td>18</td>\n",
       "      <td>123</td>\n",
       "      <td>2</td>\n",
       "      <td>FFULL</td>\n",
       "      <td>2019-01-03</td>\n",
       "      <td>2019-02-17</td>\n",
       "      <td>123.0</td>\n",
       "      <td>OLD</td>\n",
       "      <td>February</td>\n",
       "    </tr>\n",
       "    <tr>\n",
       "      <td>2</td>\n",
       "      <td>18</td>\n",
       "      <td>123</td>\n",
       "      <td>3</td>\n",
       "      <td>FFULL</td>\n",
       "      <td>2019-02-03</td>\n",
       "      <td>2019-02-17</td>\n",
       "      <td>123.0</td>\n",
       "      <td>NUEVO</td>\n",
       "      <td>February</td>\n",
       "    </tr>\n",
       "    <tr>\n",
       "      <td>3</td>\n",
       "      <td>18</td>\n",
       "      <td>543</td>\n",
       "      <td>15</td>\n",
       "      <td>FFULL</td>\n",
       "      <td>2019-02-14</td>\n",
       "      <td>2019-02-17</td>\n",
       "      <td>500.0</td>\n",
       "      <td>NUEVO</td>\n",
       "      <td>February</td>\n",
       "    </tr>\n",
       "    <tr>\n",
       "      <td>4</td>\n",
       "      <td>1</td>\n",
       "      <td>123</td>\n",
       "      <td>3</td>\n",
       "      <td>HOG</td>\n",
       "      <td>2019-02-10</td>\n",
       "      <td>2019-02-17</td>\n",
       "      <td>12.8</td>\n",
       "      <td>NUEVO</td>\n",
       "      <td>February</td>\n",
       "    </tr>\n",
       "  </tbody>\n",
       "</table>\n",
       "</div>"
      ],
      "text/plain": [
       "   RAMO  CERTIFICADO  NROCOTA PRODUCTO   FEMISION     FENVIO  MONTO  \\\n",
       "0    18          123        2    FFULL 2019-01-03 2019-01-17  123.0   \n",
       "1    18          123        2    FFULL 2019-01-03 2019-02-17  123.0   \n",
       "2    18          123        3    FFULL 2019-02-03 2019-02-17  123.0   \n",
       "3    18          543       15    FFULL 2019-02-14 2019-02-17  500.0   \n",
       "4     1          123        3      HOG 2019-02-10 2019-02-17   12.8   \n",
       "\n",
       "  FACTURACION    MENVIO  \n",
       "0       NUEVO   January  \n",
       "1         OLD  February  \n",
       "2       NUEVO  February  \n",
       "3       NUEVO  February  \n",
       "4       NUEVO  February  "
      ]
     },
     "execution_count": 136,
     "metadata": {},
     "output_type": "execute_result"
    }
   ],
   "source": [
    "cinta.head()"
   ]
  },
  {
   "cell_type": "code",
   "execution_count": 137,
   "metadata": {
    "scrolled": true
   },
   "outputs": [
    {
     "data": {
      "text/html": [
       "<div>\n",
       "<style scoped>\n",
       "    .dataframe tbody tr th:only-of-type {\n",
       "        vertical-align: middle;\n",
       "    }\n",
       "\n",
       "    .dataframe tbody tr th {\n",
       "        vertical-align: top;\n",
       "    }\n",
       "\n",
       "    .dataframe thead tr th {\n",
       "        text-align: left;\n",
       "    }\n",
       "\n",
       "    .dataframe thead tr:last-of-type th {\n",
       "        text-align: right;\n",
       "    }\n",
       "</style>\n",
       "<table border=\"1\" class=\"dataframe\">\n",
       "  <thead>\n",
       "    <tr>\n",
       "      <th></th>\n",
       "      <th colspan=\"3\" halign=\"left\">MONTO</th>\n",
       "    </tr>\n",
       "    <tr>\n",
       "      <th>PRODUCTO</th>\n",
       "      <th colspan=\"2\" halign=\"left\">FFULL</th>\n",
       "      <th>HOG</th>\n",
       "    </tr>\n",
       "    <tr>\n",
       "      <th>FACTURACION</th>\n",
       "      <th>NUEVO</th>\n",
       "      <th>OLD</th>\n",
       "      <th>NUEVO</th>\n",
       "    </tr>\n",
       "    <tr>\n",
       "      <th>MENVIO</th>\n",
       "      <th></th>\n",
       "      <th></th>\n",
       "      <th></th>\n",
       "    </tr>\n",
       "  </thead>\n",
       "  <tbody>\n",
       "    <tr>\n",
       "      <td>February</td>\n",
       "      <td>623.0</td>\n",
       "      <td>123.0</td>\n",
       "      <td>12.8</td>\n",
       "    </tr>\n",
       "    <tr>\n",
       "      <td>January</td>\n",
       "      <td>123.0</td>\n",
       "      <td>NaN</td>\n",
       "      <td>NaN</td>\n",
       "    </tr>\n",
       "  </tbody>\n",
       "</table>\n",
       "</div>"
      ],
      "text/plain": [
       "             MONTO             \n",
       "PRODUCTO     FFULL          HOG\n",
       "FACTURACION  NUEVO    OLD NUEVO\n",
       "MENVIO                         \n",
       "February     623.0  123.0  12.8\n",
       "January      123.0    NaN   NaN"
      ]
     },
     "execution_count": 137,
     "metadata": {},
     "output_type": "execute_result"
    }
   ],
   "source": [
    "pt = cinta.pivot_table(values = ['MONTO'], index = 'MENVIO', columns = ['PRODUCTO', 'FACTURACION'], aggfunc='sum')\n",
    "pt"
   ]
  },
  {
   "cell_type": "code",
   "execution_count": 138,
   "metadata": {
    "scrolled": false
   },
   "outputs": [
    {
     "data": {
      "text/plain": [
       "<matplotlib.axes._subplots.AxesSubplot at 0x187bd19e808>"
      ]
     },
     "execution_count": 138,
     "metadata": {},
     "output_type": "execute_result"
    },
    {
     "data": {
      "image/png": "[encoded data removed]",
      "text/plain": [
       "<Figure size 432x288 with 1 Axes>"
      ]
     },
     "metadata": {
      "needs_background": "light"
     },
     "output_type": "display_data"
    }
   ],
   "source": [
    "pt.plot(kind = 'bar', stacked = True)"
   ]
  },
  {
   "cell_type": "code",
   "execution_count": 143,
   "metadata": {},
   "outputs": [
    {
     "data": {
      "text/html": [
       "<div>\n",
       "<style scoped>\n",
       "    .dataframe tbody tr th:only-of-type {\n",
       "        vertical-align: middle;\n",
       "    }\n",
       "\n",
       "    .dataframe tbody tr th {\n",
       "        vertical-align: top;\n",
       "    }\n",
       "\n",
       "    .dataframe thead tr th {\n",
       "        text-align: left;\n",
       "    }\n",
       "\n",
       "    .dataframe thead tr:last-of-type th {\n",
       "        text-align: right;\n",
       "    }\n",
       "</style>\n",
       "<table border=\"1\" class=\"dataframe\">\n",
       "  <thead>\n",
       "    <tr>\n",
       "      <th></th>\n",
       "      <th></th>\n",
       "      <th colspan=\"2\" halign=\"left\">MONTO</th>\n",
       "    </tr>\n",
       "    <tr>\n",
       "      <th></th>\n",
       "      <th>MENVIO</th>\n",
       "      <th>February</th>\n",
       "      <th>January</th>\n",
       "    </tr>\n",
       "    <tr>\n",
       "      <th>PRODUCTO</th>\n",
       "      <th>FACTURACION</th>\n",
       "      <th></th>\n",
       "      <th></th>\n",
       "    </tr>\n",
       "  </thead>\n",
       "  <tbody>\n",
       "    <tr>\n",
       "      <td rowspan=\"2\" valign=\"top\">FFULL</td>\n",
       "      <td>NUEVO</td>\n",
       "      <td>623.0</td>\n",
       "      <td>123.0</td>\n",
       "    </tr>\n",
       "    <tr>\n",
       "      <td>OLD</td>\n",
       "      <td>123.0</td>\n",
       "      <td>NaN</td>\n",
       "    </tr>\n",
       "    <tr>\n",
       "      <td>HOG</td>\n",
       "      <td>NUEVO</td>\n",
       "      <td>12.8</td>\n",
       "      <td>NaN</td>\n",
       "    </tr>\n",
       "  </tbody>\n",
       "</table>\n",
       "</div>"
      ],
      "text/plain": [
       "                        MONTO        \n",
       "MENVIO               February January\n",
       "PRODUCTO FACTURACION                 \n",
       "FFULL    NUEVO          623.0   123.0\n",
       "         OLD            123.0     NaN\n",
       "HOG      NUEVO           12.8     NaN"
      ]
     },
     "execution_count": 143,
     "metadata": {},
     "output_type": "execute_result"
    }
   ],
   "source": [
    "pt.stack(level = [1,2]).unstack(level = 0).head()"
   ]
  },
  {
   "cell_type": "markdown",
   "metadata": {},
   "source": [
    "## Facturacion"
   ]
  },
  {
   "cell_type": "code",
   "execution_count": 230,
   "metadata": {},
   "outputs": [
    {
     "data": {
      "text/html": [
       "<div>\n",
       "<style scoped>\n",
       "    .dataframe tbody tr th:only-of-type {\n",
       "        vertical-align: middle;\n",
       "    }\n",
       "\n",
       "    .dataframe tbody tr th {\n",
       "        vertical-align: top;\n",
       "    }\n",
       "\n",
       "    .dataframe thead th {\n",
       "        text-align: right;\n",
       "    }\n",
       "</style>\n",
       "<table border=\"1\" class=\"dataframe\">\n",
       "  <thead>\n",
       "    <tr style=\"text-align: right;\">\n",
       "      <th></th>\n",
       "      <th>RAMO</th>\n",
       "      <th>CERTIFICADO</th>\n",
       "      <th>NROCOTA</th>\n",
       "      <th>PRODUCTO</th>\n",
       "      <th>FEMISION</th>\n",
       "      <th>FENVIO</th>\n",
       "      <th>MONTO</th>\n",
       "      <th>STATUS</th>\n",
       "    </tr>\n",
       "  </thead>\n",
       "  <tbody>\n",
       "    <tr>\n",
       "      <td>0</td>\n",
       "      <td>18</td>\n",
       "      <td>111</td>\n",
       "      <td>2</td>\n",
       "      <td>FFULL</td>\n",
       "      <td>2019-01-04</td>\n",
       "      <td>2019-02-17</td>\n",
       "      <td>1000.0</td>\n",
       "      <td>COBRADO</td>\n",
       "    </tr>\n",
       "    <tr>\n",
       "      <td>1</td>\n",
       "      <td>18</td>\n",
       "      <td>123</td>\n",
       "      <td>2</td>\n",
       "      <td>FFULL</td>\n",
       "      <td>2019-01-03</td>\n",
       "      <td>2019-02-17</td>\n",
       "      <td>123.0</td>\n",
       "      <td>PEND</td>\n",
       "    </tr>\n",
       "    <tr>\n",
       "      <td>2</td>\n",
       "      <td>18</td>\n",
       "      <td>123</td>\n",
       "      <td>3</td>\n",
       "      <td>FFULL</td>\n",
       "      <td>2019-02-03</td>\n",
       "      <td>2019-02-17</td>\n",
       "      <td>444.0</td>\n",
       "      <td>COBRADO</td>\n",
       "    </tr>\n",
       "    <tr>\n",
       "      <td>3</td>\n",
       "      <td>18</td>\n",
       "      <td>543</td>\n",
       "      <td>15</td>\n",
       "      <td>FFULL</td>\n",
       "      <td>2019-02-14</td>\n",
       "      <td>2019-02-17</td>\n",
       "      <td>500.0</td>\n",
       "      <td>COBRADO</td>\n",
       "    </tr>\n",
       "    <tr>\n",
       "      <td>4</td>\n",
       "      <td>1</td>\n",
       "      <td>123</td>\n",
       "      <td>3</td>\n",
       "      <td>HOG</td>\n",
       "      <td>2019-02-10</td>\n",
       "      <td>2019-02-17</td>\n",
       "      <td>12.8</td>\n",
       "      <td>PEND</td>\n",
       "    </tr>\n",
       "  </tbody>\n",
       "</table>\n",
       "</div>"
      ],
      "text/plain": [
       "   RAMO  CERTIFICADO  NROCOTA PRODUCTO   FEMISION     FENVIO   MONTO   STATUS\n",
       "0    18          111        2    FFULL 2019-01-04 2019-02-17  1000.0  COBRADO\n",
       "1    18          123        2    FFULL 2019-01-03 2019-02-17   123.0     PEND\n",
       "2    18          123        3    FFULL 2019-02-03 2019-02-17   444.0  COBRADO\n",
       "3    18          543       15    FFULL 2019-02-14 2019-02-17   500.0  COBRADO\n",
       "4     1          123        3      HOG 2019-02-10 2019-02-17    12.8     PEND"
      ]
     },
     "execution_count": 230,
     "metadata": {},
     "output_type": "execute_result"
    }
   ],
   "source": [
    "recibos = pd.read_excel('Cinta.xlsx', sheet_name='RECIBOS')\n",
    "recibos.head()"
   ]
  },
  {
   "cell_type": "code",
   "execution_count": 231,
   "metadata": {},
   "outputs": [],
   "source": [
    "recibos['MEMISOIN'] = recibos.FEMISION.apply(lambda x:x.strftime('%Y%m'))"
   ]
  },
  {
   "cell_type": "code",
   "execution_count": 232,
   "metadata": {},
   "outputs": [
    {
     "data": {
      "text/html": [
       "<div>\n",
       "<style scoped>\n",
       "    .dataframe tbody tr th:only-of-type {\n",
       "        vertical-align: middle;\n",
       "    }\n",
       "\n",
       "    .dataframe tbody tr th {\n",
       "        vertical-align: top;\n",
       "    }\n",
       "\n",
       "    .dataframe thead th {\n",
       "        text-align: right;\n",
       "    }\n",
       "</style>\n",
       "<table border=\"1\" class=\"dataframe\">\n",
       "  <thead>\n",
       "    <tr style=\"text-align: right;\">\n",
       "      <th></th>\n",
       "      <th>RAMO</th>\n",
       "      <th>CERTIFICADO</th>\n",
       "      <th>NROCOTA</th>\n",
       "      <th>PRODUCTO</th>\n",
       "      <th>FEMISION</th>\n",
       "      <th>FENVIO</th>\n",
       "      <th>MONTO</th>\n",
       "      <th>STATUS</th>\n",
       "      <th>MEMISOIN</th>\n",
       "    </tr>\n",
       "  </thead>\n",
       "  <tbody>\n",
       "    <tr>\n",
       "      <td>0</td>\n",
       "      <td>18</td>\n",
       "      <td>111</td>\n",
       "      <td>2</td>\n",
       "      <td>FFULL</td>\n",
       "      <td>2019-01-04</td>\n",
       "      <td>2019-02-17</td>\n",
       "      <td>1000.0</td>\n",
       "      <td>COBRADO</td>\n",
       "      <td>201901</td>\n",
       "    </tr>\n",
       "    <tr>\n",
       "      <td>1</td>\n",
       "      <td>18</td>\n",
       "      <td>123</td>\n",
       "      <td>2</td>\n",
       "      <td>FFULL</td>\n",
       "      <td>2019-01-03</td>\n",
       "      <td>2019-02-17</td>\n",
       "      <td>123.0</td>\n",
       "      <td>PEND</td>\n",
       "      <td>201901</td>\n",
       "    </tr>\n",
       "    <tr>\n",
       "      <td>2</td>\n",
       "      <td>18</td>\n",
       "      <td>123</td>\n",
       "      <td>3</td>\n",
       "      <td>FFULL</td>\n",
       "      <td>2019-02-03</td>\n",
       "      <td>2019-02-17</td>\n",
       "      <td>444.0</td>\n",
       "      <td>COBRADO</td>\n",
       "      <td>201902</td>\n",
       "    </tr>\n",
       "    <tr>\n",
       "      <td>3</td>\n",
       "      <td>18</td>\n",
       "      <td>543</td>\n",
       "      <td>15</td>\n",
       "      <td>FFULL</td>\n",
       "      <td>2019-02-14</td>\n",
       "      <td>2019-02-17</td>\n",
       "      <td>500.0</td>\n",
       "      <td>COBRADO</td>\n",
       "      <td>201902</td>\n",
       "    </tr>\n",
       "    <tr>\n",
       "      <td>4</td>\n",
       "      <td>1</td>\n",
       "      <td>123</td>\n",
       "      <td>3</td>\n",
       "      <td>HOG</td>\n",
       "      <td>2019-02-10</td>\n",
       "      <td>2019-02-17</td>\n",
       "      <td>12.8</td>\n",
       "      <td>PEND</td>\n",
       "      <td>201902</td>\n",
       "    </tr>\n",
       "  </tbody>\n",
       "</table>\n",
       "</div>"
      ],
      "text/plain": [
       "   RAMO  CERTIFICADO  NROCOTA PRODUCTO   FEMISION     FENVIO   MONTO   STATUS  \\\n",
       "0    18          111        2    FFULL 2019-01-04 2019-02-17  1000.0  COBRADO   \n",
       "1    18          123        2    FFULL 2019-01-03 2019-02-17   123.0     PEND   \n",
       "2    18          123        3    FFULL 2019-02-03 2019-02-17   444.0  COBRADO   \n",
       "3    18          543       15    FFULL 2019-02-14 2019-02-17   500.0  COBRADO   \n",
       "4     1          123        3      HOG 2019-02-10 2019-02-17    12.8     PEND   \n",
       "\n",
       "  MEMISOIN  \n",
       "0   201901  \n",
       "1   201901  \n",
       "2   201902  \n",
       "3   201902  \n",
       "4   201902  "
      ]
     },
     "execution_count": 232,
     "metadata": {},
     "output_type": "execute_result"
    }
   ],
   "source": [
    "recibos.head()"
   ]
  },
  {
   "cell_type": "code",
   "execution_count": 233,
   "metadata": {
    "scrolled": false
   },
   "outputs": [
    {
     "data": {
      "text/html": [
       "<div>\n",
       "<style scoped>\n",
       "    .dataframe tbody tr th:only-of-type {\n",
       "        vertical-align: middle;\n",
       "    }\n",
       "\n",
       "    .dataframe tbody tr th {\n",
       "        vertical-align: top;\n",
       "    }\n",
       "\n",
       "    .dataframe thead tr th {\n",
       "        text-align: left;\n",
       "    }\n",
       "\n",
       "    .dataframe thead tr:last-of-type th {\n",
       "        text-align: right;\n",
       "    }\n",
       "</style>\n",
       "<table border=\"1\" class=\"dataframe\">\n",
       "  <thead>\n",
       "    <tr>\n",
       "      <th></th>\n",
       "      <th colspan=\"2\" halign=\"left\">MONTO</th>\n",
       "    </tr>\n",
       "    <tr>\n",
       "      <th>STATUS</th>\n",
       "      <th>COBRADO</th>\n",
       "      <th>PEND</th>\n",
       "    </tr>\n",
       "    <tr>\n",
       "      <th>MEMISOIN</th>\n",
       "      <th></th>\n",
       "      <th></th>\n",
       "    </tr>\n",
       "  </thead>\n",
       "  <tbody>\n",
       "    <tr>\n",
       "      <td>201901</td>\n",
       "      <td>1000.0</td>\n",
       "      <td>123.0</td>\n",
       "    </tr>\n",
       "    <tr>\n",
       "      <td>201902</td>\n",
       "      <td>944.0</td>\n",
       "      <td>12.8</td>\n",
       "    </tr>\n",
       "  </tbody>\n",
       "</table>\n",
       "</div>"
      ],
      "text/plain": [
       "           MONTO       \n",
       "STATUS   COBRADO   PEND\n",
       "MEMISOIN               \n",
       "201901    1000.0  123.0\n",
       "201902     944.0   12.8"
      ]
     },
     "execution_count": 233,
     "metadata": {},
     "output_type": "execute_result"
    }
   ],
   "source": [
    "ptr = recibos.pivot_table(values = ['MONTO'], index = 'MEMISOIN', columns = ['STATUS'], aggfunc='sum')\n",
    "ptr"
   ]
  },
  {
   "cell_type": "code",
   "execution_count": 234,
   "metadata": {},
   "outputs": [],
   "source": [
    "ptr['TOTAL'] = ptr.apply(sum, axis = 1)"
   ]
  },
  {
   "cell_type": "code",
   "execution_count": 235,
   "metadata": {},
   "outputs": [
    {
     "data": {
      "text/html": [
       "<div>\n",
       "<style scoped>\n",
       "    .dataframe tbody tr th:only-of-type {\n",
       "        vertical-align: middle;\n",
       "    }\n",
       "\n",
       "    .dataframe tbody tr th {\n",
       "        vertical-align: top;\n",
       "    }\n",
       "\n",
       "    .dataframe thead tr th {\n",
       "        text-align: left;\n",
       "    }\n",
       "\n",
       "    .dataframe thead tr:last-of-type th {\n",
       "        text-align: right;\n",
       "    }\n",
       "</style>\n",
       "<table border=\"1\" class=\"dataframe\">\n",
       "  <thead>\n",
       "    <tr>\n",
       "      <th></th>\n",
       "      <th colspan=\"2\" halign=\"left\">MONTO</th>\n",
       "      <th>TOTAL</th>\n",
       "    </tr>\n",
       "    <tr>\n",
       "      <th>STATUS</th>\n",
       "      <th>COBRADO</th>\n",
       "      <th>PEND</th>\n",
       "      <th></th>\n",
       "    </tr>\n",
       "    <tr>\n",
       "      <th>MEMISOIN</th>\n",
       "      <th></th>\n",
       "      <th></th>\n",
       "      <th></th>\n",
       "    </tr>\n",
       "  </thead>\n",
       "  <tbody>\n",
       "    <tr>\n",
       "      <td>201901</td>\n",
       "      <td>1000.0</td>\n",
       "      <td>123.0</td>\n",
       "      <td>1123.0</td>\n",
       "    </tr>\n",
       "    <tr>\n",
       "      <td>201902</td>\n",
       "      <td>944.0</td>\n",
       "      <td>12.8</td>\n",
       "      <td>956.8</td>\n",
       "    </tr>\n",
       "  </tbody>\n",
       "</table>\n",
       "</div>"
      ],
      "text/plain": [
       "           MONTO          TOTAL\n",
       "STATUS   COBRADO   PEND        \n",
       "MEMISOIN                       \n",
       "201901    1000.0  123.0  1123.0\n",
       "201902     944.0   12.8   956.8"
      ]
     },
     "execution_count": 235,
     "metadata": {},
     "output_type": "execute_result"
    }
   ],
   "source": [
    "ptr"
   ]
  },
  {
   "cell_type": "code",
   "execution_count": 239,
   "metadata": {},
   "outputs": [
    {
     "data": {
      "text/plain": [
       "<matplotlib.axes._subplots.AxesSubplot at 0x187bea83848>"
      ]
     },
     "execution_count": 239,
     "metadata": {},
     "output_type": "execute_result"
    },
    {
     "data": {
      "image/png": "[encoded data removed]",
      "text/plain": [
       "<Figure size 720x360 with 1 Axes>"
      ]
     },
     "metadata": {
      "needs_background": "light"
     },
     "output_type": "display_data"
    }
   ],
   "source": [
    "ptr.loc[:,:'MONTO'].plot(kind = 'bar', stacked = True, figsize = (10,5))"
   ]
  },
  {
   "cell_type": "code",
   "execution_count": 163,
   "metadata": {
    "scrolled": true
   },
   "outputs": [
    {
     "data": {
      "text/html": [
       "<div>\n",
       "<style scoped>\n",
       "    .dataframe tbody tr th:only-of-type {\n",
       "        vertical-align: middle;\n",
       "    }\n",
       "\n",
       "    .dataframe tbody tr th {\n",
       "        vertical-align: top;\n",
       "    }\n",
       "\n",
       "    .dataframe thead tr th {\n",
       "        text-align: left;\n",
       "    }\n",
       "\n",
       "    .dataframe thead tr:last-of-type th {\n",
       "        text-align: right;\n",
       "    }\n",
       "</style>\n",
       "<table border=\"1\" class=\"dataframe\">\n",
       "  <thead>\n",
       "    <tr>\n",
       "      <th></th>\n",
       "      <th colspan=\"3\" halign=\"left\">MONTO</th>\n",
       "    </tr>\n",
       "    <tr>\n",
       "      <th>STATUS</th>\n",
       "      <th>COBRADO</th>\n",
       "      <th colspan=\"2\" halign=\"left\">PEND</th>\n",
       "    </tr>\n",
       "    <tr>\n",
       "      <th>PRODUCTO</th>\n",
       "      <th>FFULL</th>\n",
       "      <th>FFULL</th>\n",
       "      <th>HOG</th>\n",
       "    </tr>\n",
       "    <tr>\n",
       "      <th>MEMISOIN</th>\n",
       "      <th></th>\n",
       "      <th></th>\n",
       "      <th></th>\n",
       "    </tr>\n",
       "  </thead>\n",
       "  <tbody>\n",
       "    <tr>\n",
       "      <td>February</td>\n",
       "      <td>500.0</td>\n",
       "      <td>NaN</td>\n",
       "      <td>12.8</td>\n",
       "    </tr>\n",
       "    <tr>\n",
       "      <td>January</td>\n",
       "      <td>123.0</td>\n",
       "      <td>123.0</td>\n",
       "      <td>NaN</td>\n",
       "    </tr>\n",
       "  </tbody>\n",
       "</table>\n",
       "</div>"
      ],
      "text/plain": [
       "           MONTO             \n",
       "STATUS   COBRADO   PEND      \n",
       "PRODUCTO   FFULL  FFULL   HOG\n",
       "MEMISOIN                     \n",
       "February   500.0    NaN  12.8\n",
       "January    123.0  123.0   NaN"
      ]
     },
     "execution_count": 163,
     "metadata": {},
     "output_type": "execute_result"
    }
   ],
   "source": [
    "recibos.pivot_table(values = ['MONTO'], index = 'MEMISOIN', columns = ['STATUS', 'PRODUCTO'], aggfunc='sum')"
   ]
  },
  {
   "cell_type": "code",
   "execution_count": 241,
   "metadata": {},
   "outputs": [
    {
     "data": {
      "text/html": [
       "<div>\n",
       "<style scoped>\n",
       "    .dataframe tbody tr th:only-of-type {\n",
       "        vertical-align: middle;\n",
       "    }\n",
       "\n",
       "    .dataframe tbody tr th {\n",
       "        vertical-align: top;\n",
       "    }\n",
       "\n",
       "    .dataframe thead th {\n",
       "        text-align: right;\n",
       "    }\n",
       "</style>\n",
       "<table border=\"1\" class=\"dataframe\">\n",
       "  <thead>\n",
       "    <tr style=\"text-align: right;\">\n",
       "      <th></th>\n",
       "      <th>FECHA</th>\n",
       "      <th>RAMO</th>\n",
       "      <th>CERT</th>\n",
       "      <th>OPE</th>\n",
       "      <th>FEMIREC</th>\n",
       "      <th>MONTO</th>\n",
       "    </tr>\n",
       "  </thead>\n",
       "  <tbody>\n",
       "    <tr>\n",
       "      <td>0</td>\n",
       "      <td>2019-01-01</td>\n",
       "      <td>1</td>\n",
       "      <td>1</td>\n",
       "      <td>EMI</td>\n",
       "      <td>2019-01-01</td>\n",
       "      <td>1000</td>\n",
       "    </tr>\n",
       "    <tr>\n",
       "      <td>1</td>\n",
       "      <td>2019-01-02</td>\n",
       "      <td>18</td>\n",
       "      <td>2</td>\n",
       "      <td>COB</td>\n",
       "      <td>2019-12-12</td>\n",
       "      <td>1000</td>\n",
       "    </tr>\n",
       "    <tr>\n",
       "      <td>2</td>\n",
       "      <td>2019-01-15</td>\n",
       "      <td>32</td>\n",
       "      <td>3</td>\n",
       "      <td>ANU</td>\n",
       "      <td>2019-12-30</td>\n",
       "      <td>950</td>\n",
       "    </tr>\n",
       "    <tr>\n",
       "      <td>3</td>\n",
       "      <td>2019-02-03</td>\n",
       "      <td>18</td>\n",
       "      <td>4</td>\n",
       "      <td>EMI</td>\n",
       "      <td>2019-02-03</td>\n",
       "      <td>1000</td>\n",
       "    </tr>\n",
       "    <tr>\n",
       "      <td>4</td>\n",
       "      <td>2019-02-10</td>\n",
       "      <td>1</td>\n",
       "      <td>5</td>\n",
       "      <td>COB</td>\n",
       "      <td>2019-01-05</td>\n",
       "      <td>900</td>\n",
       "    </tr>\n",
       "  </tbody>\n",
       "</table>\n",
       "</div>"
      ],
      "text/plain": [
       "       FECHA  RAMO  CERT  OPE    FEMIREC  MONTO\n",
       "0 2019-01-01     1     1  EMI 2019-01-01   1000\n",
       "1 2019-01-02    18     2  COB 2019-12-12   1000\n",
       "2 2019-01-15    32     3  ANU 2019-12-30    950\n",
       "3 2019-02-03    18     4  EMI 2019-02-03   1000\n",
       "4 2019-02-10     1     5  COB 2019-01-05    900"
      ]
     },
     "execution_count": 241,
     "metadata": {},
     "output_type": "execute_result"
    }
   ],
   "source": [
    "operecibos = pd.read_excel('Cinta.xlsx', sheet_name='OPEREC')\n",
    "operecibos.head()"
   ]
  },
  {
   "cell_type": "code",
   "execution_count": 287,
   "metadata": {},
   "outputs": [],
   "source": [
    "operecibos['MNT'] = operecibos.apply(\\\n",
    "                        lambda x: x.MONTO if x.OPE == 'EMI' else -x.MONTO, \\\n",
    "                        axis = 1)"
   ]
  },
  {
   "cell_type": "code",
   "execution_count": 256,
   "metadata": {},
   "outputs": [
    {
     "data": {
      "text/html": [
       "<div>\n",
       "<style scoped>\n",
       "    .dataframe tbody tr th:only-of-type {\n",
       "        vertical-align: middle;\n",
       "    }\n",
       "\n",
       "    .dataframe tbody tr th {\n",
       "        vertical-align: top;\n",
       "    }\n",
       "\n",
       "    .dataframe thead th {\n",
       "        text-align: right;\n",
       "    }\n",
       "</style>\n",
       "<table border=\"1\" class=\"dataframe\">\n",
       "  <thead>\n",
       "    <tr style=\"text-align: right;\">\n",
       "      <th></th>\n",
       "      <th>FECHA</th>\n",
       "      <th>RAMO</th>\n",
       "      <th>CERT</th>\n",
       "      <th>OPE</th>\n",
       "      <th>FEMIREC</th>\n",
       "      <th>MONTO</th>\n",
       "      <th>MNT</th>\n",
       "    </tr>\n",
       "  </thead>\n",
       "  <tbody>\n",
       "    <tr>\n",
       "      <td>0</td>\n",
       "      <td>2019-01-01</td>\n",
       "      <td>1</td>\n",
       "      <td>1</td>\n",
       "      <td>EMI</td>\n",
       "      <td>2019-01-01</td>\n",
       "      <td>1000</td>\n",
       "      <td>1000</td>\n",
       "    </tr>\n",
       "    <tr>\n",
       "      <td>1</td>\n",
       "      <td>2019-01-02</td>\n",
       "      <td>18</td>\n",
       "      <td>2</td>\n",
       "      <td>COB</td>\n",
       "      <td>2019-12-12</td>\n",
       "      <td>1000</td>\n",
       "      <td>-1000</td>\n",
       "    </tr>\n",
       "    <tr>\n",
       "      <td>2</td>\n",
       "      <td>2019-01-15</td>\n",
       "      <td>32</td>\n",
       "      <td>3</td>\n",
       "      <td>ANU</td>\n",
       "      <td>2019-12-30</td>\n",
       "      <td>950</td>\n",
       "      <td>-950</td>\n",
       "    </tr>\n",
       "    <tr>\n",
       "      <td>3</td>\n",
       "      <td>2019-02-03</td>\n",
       "      <td>18</td>\n",
       "      <td>4</td>\n",
       "      <td>EMI</td>\n",
       "      <td>2019-02-03</td>\n",
       "      <td>1000</td>\n",
       "      <td>1000</td>\n",
       "    </tr>\n",
       "    <tr>\n",
       "      <td>4</td>\n",
       "      <td>2019-02-10</td>\n",
       "      <td>1</td>\n",
       "      <td>5</td>\n",
       "      <td>COB</td>\n",
       "      <td>2019-01-05</td>\n",
       "      <td>900</td>\n",
       "      <td>-900</td>\n",
       "    </tr>\n",
       "    <tr>\n",
       "      <td>5</td>\n",
       "      <td>2019-02-20</td>\n",
       "      <td>32</td>\n",
       "      <td>6</td>\n",
       "      <td>ANU</td>\n",
       "      <td>2019-01-10</td>\n",
       "      <td>780</td>\n",
       "      <td>-780</td>\n",
       "    </tr>\n",
       "    <tr>\n",
       "      <td>6</td>\n",
       "      <td>2019-03-10</td>\n",
       "      <td>18</td>\n",
       "      <td>7</td>\n",
       "      <td>COB</td>\n",
       "      <td>2019-02-15</td>\n",
       "      <td>1500</td>\n",
       "      <td>-1500</td>\n",
       "    </tr>\n",
       "    <tr>\n",
       "      <td>7</td>\n",
       "      <td>2019-03-15</td>\n",
       "      <td>7</td>\n",
       "      <td>8</td>\n",
       "      <td>COB</td>\n",
       "      <td>2019-02-10</td>\n",
       "      <td>900</td>\n",
       "      <td>-900</td>\n",
       "    </tr>\n",
       "  </tbody>\n",
       "</table>\n",
       "</div>"
      ],
      "text/plain": [
       "       FECHA  RAMO  CERT  OPE    FEMIREC  MONTO   MNT\n",
       "0 2019-01-01     1     1  EMI 2019-01-01   1000  1000\n",
       "1 2019-01-02    18     2  COB 2019-12-12   1000 -1000\n",
       "2 2019-01-15    32     3  ANU 2019-12-30    950  -950\n",
       "3 2019-02-03    18     4  EMI 2019-02-03   1000  1000\n",
       "4 2019-02-10     1     5  COB 2019-01-05    900  -900\n",
       "5 2019-02-20    32     6  ANU 2019-01-10    780  -780\n",
       "6 2019-03-10    18     7  COB 2019-02-15   1500 -1500\n",
       "7 2019-03-15     7     8  COB 2019-02-10    900  -900"
      ]
     },
     "execution_count": 256,
     "metadata": {},
     "output_type": "execute_result"
    }
   ],
   "source": [
    "operecibos"
   ]
  },
  {
   "cell_type": "code",
   "execution_count": 272,
   "metadata": {},
   "outputs": [
    {
     "data": {
      "text/html": [
       "<div>\n",
       "<style scoped>\n",
       "    .dataframe tbody tr th:only-of-type {\n",
       "        vertical-align: middle;\n",
       "    }\n",
       "\n",
       "    .dataframe tbody tr th {\n",
       "        vertical-align: top;\n",
       "    }\n",
       "\n",
       "    .dataframe thead th {\n",
       "        text-align: right;\n",
       "    }\n",
       "</style>\n",
       "<table border=\"1\" class=\"dataframe\">\n",
       "  <thead>\n",
       "    <tr style=\"text-align: right;\">\n",
       "      <th></th>\n",
       "      <th>RAMO</th>\n",
       "      <th>CERT</th>\n",
       "      <th>MONTO</th>\n",
       "      <th>MNT</th>\n",
       "    </tr>\n",
       "    <tr>\n",
       "      <th>FECHA</th>\n",
       "      <th></th>\n",
       "      <th></th>\n",
       "      <th></th>\n",
       "      <th></th>\n",
       "    </tr>\n",
       "  </thead>\n",
       "  <tbody>\n",
       "    <tr>\n",
       "      <td>2019-01-31</td>\n",
       "      <td>51</td>\n",
       "      <td>6</td>\n",
       "      <td>2950</td>\n",
       "      <td>-950</td>\n",
       "    </tr>\n",
       "    <tr>\n",
       "      <td>2019-02-28</td>\n",
       "      <td>51</td>\n",
       "      <td>15</td>\n",
       "      <td>2680</td>\n",
       "      <td>-680</td>\n",
       "    </tr>\n",
       "    <tr>\n",
       "      <td>2019-03-31</td>\n",
       "      <td>25</td>\n",
       "      <td>15</td>\n",
       "      <td>2400</td>\n",
       "      <td>-2400</td>\n",
       "    </tr>\n",
       "  </tbody>\n",
       "</table>\n",
       "</div>"
      ],
      "text/plain": [
       "            RAMO  CERT  MONTO   MNT\n",
       "FECHA                              \n",
       "2019-01-31    51     6   2950  -950\n",
       "2019-02-28    51    15   2680  -680\n",
       "2019-03-31    25    15   2400 -2400"
      ]
     },
     "execution_count": 272,
     "metadata": {},
     "output_type": "execute_result"
    }
   ],
   "source": [
    "operecibos.set_index('FECHA').resample('1M').sum()"
   ]
  },
  {
   "cell_type": "code",
   "execution_count": 281,
   "metadata": {},
   "outputs": [
    {
     "data": {
      "text/plain": [
       "<matplotlib.axes._subplots.AxesSubplot at 0x187befa1748>"
      ]
     },
     "execution_count": 281,
     "metadata": {},
     "output_type": "execute_result"
    },
    {
     "data": {
      "image/png": "[encoded data removed]",
      "text/plain": [
       "<Figure size 432x288 with 1 Axes>"
      ]
     },
     "metadata": {
      "needs_background": "light"
     },
     "output_type": "display_data"
    }
   ],
   "source": [
    "operecibos.MNT.cumsum().plot()"
   ]
  },
  {
   "cell_type": "code",
   "execution_count": 282,
   "metadata": {},
   "outputs": [
    {
     "data": {
      "text/html": [
       "<div>\n",
       "<style scoped>\n",
       "    .dataframe tbody tr th:only-of-type {\n",
       "        vertical-align: middle;\n",
       "    }\n",
       "\n",
       "    .dataframe tbody tr th {\n",
       "        vertical-align: top;\n",
       "    }\n",
       "\n",
       "    .dataframe thead tr th {\n",
       "        text-align: left;\n",
       "    }\n",
       "\n",
       "    .dataframe thead tr:last-of-type th {\n",
       "        text-align: right;\n",
       "    }\n",
       "</style>\n",
       "<table border=\"1\" class=\"dataframe\">\n",
       "  <thead>\n",
       "    <tr>\n",
       "      <th></th>\n",
       "      <th colspan=\"3\" halign=\"left\">MNT</th>\n",
       "    </tr>\n",
       "    <tr>\n",
       "      <th>OPE</th>\n",
       "      <th>ANU</th>\n",
       "      <th>COB</th>\n",
       "      <th>EMI</th>\n",
       "    </tr>\n",
       "    <tr>\n",
       "      <th>FECHA</th>\n",
       "      <th></th>\n",
       "      <th></th>\n",
       "      <th></th>\n",
       "    </tr>\n",
       "  </thead>\n",
       "  <tbody>\n",
       "    <tr>\n",
       "      <td>2019-01-31</td>\n",
       "      <td>-950.0</td>\n",
       "      <td>-1000.0</td>\n",
       "      <td>1000.0</td>\n",
       "    </tr>\n",
       "    <tr>\n",
       "      <td>2019-02-28</td>\n",
       "      <td>-780.0</td>\n",
       "      <td>-900.0</td>\n",
       "      <td>1000.0</td>\n",
       "    </tr>\n",
       "    <tr>\n",
       "      <td>2019-03-31</td>\n",
       "      <td>NaN</td>\n",
       "      <td>-2400.0</td>\n",
       "      <td>NaN</td>\n",
       "    </tr>\n",
       "  </tbody>\n",
       "</table>\n",
       "</div>"
      ],
      "text/plain": [
       "              MNT                \n",
       "OPE           ANU     COB     EMI\n",
       "FECHA                            \n",
       "2019-01-31 -950.0 -1000.0  1000.0\n",
       "2019-02-28 -780.0  -900.0  1000.0\n",
       "2019-03-31    NaN -2400.0     NaN"
      ]
     },
     "execution_count": 282,
     "metadata": {},
     "output_type": "execute_result"
    }
   ],
   "source": [
    "operecibos.pivot_table(values = ['MNT'], \\\n",
    "                       index = pd.Grouper(key = 'FECHA', freq = '1M'), \\\n",
    "                       columns = ['OPE'], aggfunc='sum')"
   ]
  },
  {
   "cell_type": "code",
   "execution_count": null,
   "metadata": {},
   "outputs": [],
   "source": []
  }
 ],
 "metadata": {
  "kernelspec": {
   "display_name": "Python 3",
   "language": "python",
   "name": "python3"
  },
  "language_info": {
   "codemirror_mode": {
    "name": "ipython",
    "version": 3
   },
   "file_extension": ".py",
   "mimetype": "text/x-python",
   "name": "python",
   "nbconvert_exporter": "python",
   "pygments_lexer": "ipython3",
   "version": "3.7.4"
  }
 },
 "nbformat": 4,
 "nbformat_minor": 2
}
