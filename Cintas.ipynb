{
 "cells": [
  {
   "cell_type": "code",
   "execution_count": 2,
   "metadata": {},
   "outputs": [],
   "source": [
    "import pandas as pd\n",
    "import numpy as np\n",
    "from datetime import date, timedelta\n",
    "\n",
    "%matplotlib inline\n",
    "\n",
    "cinta = pd.read_excel('Cinta.xlsx', sheet_name='RECIBOSD')\n"
   ]
  },
  {
   "cell_type": "code",
   "execution_count": 127,
   "metadata": {},
   "outputs": [
    {
     "data": {
      "text/html": [
       "<div>\n",
       "<style scoped>\n",
       "    .dataframe tbody tr th:only-of-type {\n",
       "        vertical-align: middle;\n",
       "    }\n",
       "\n",
       "    .dataframe tbody tr th {\n",
       "        vertical-align: top;\n",
       "    }\n",
       "\n",
       "    .dataframe thead th {\n",
       "        text-align: right;\n",
       "    }\n",
       "</style>\n",
       "<table border=\"1\" class=\"dataframe\">\n",
       "  <thead>\n",
       "    <tr style=\"text-align: right;\">\n",
       "      <th></th>\n",
       "      <th>RAMO</th>\n",
       "      <th>CERTIFICADO</th>\n",
       "      <th>NROCOTA</th>\n",
       "      <th>PRODUCTO</th>\n",
       "      <th>FEMISION</th>\n",
       "      <th>FENVIO</th>\n",
       "      <th>MONTO</th>\n",
       "    </tr>\n",
       "  </thead>\n",
       "  <tbody>\n",
       "    <tr>\n",
       "      <td>0</td>\n",
       "      <td>18</td>\n",
       "      <td>123</td>\n",
       "      <td>2</td>\n",
       "      <td>FFULL</td>\n",
       "      <td>2019-01-03</td>\n",
       "      <td>2019-01-17</td>\n",
       "      <td>123.0</td>\n",
       "    </tr>\n",
       "    <tr>\n",
       "      <td>1</td>\n",
       "      <td>18</td>\n",
       "      <td>123</td>\n",
       "      <td>2</td>\n",
       "      <td>FFULL</td>\n",
       "      <td>2019-01-03</td>\n",
       "      <td>2019-02-17</td>\n",
       "      <td>123.0</td>\n",
       "    </tr>\n",
       "    <tr>\n",
       "      <td>2</td>\n",
       "      <td>18</td>\n",
       "      <td>123</td>\n",
       "      <td>3</td>\n",
       "      <td>FFULL</td>\n",
       "      <td>2019-02-03</td>\n",
       "      <td>2019-02-17</td>\n",
       "      <td>123.0</td>\n",
       "    </tr>\n",
       "    <tr>\n",
       "      <td>3</td>\n",
       "      <td>18</td>\n",
       "      <td>543</td>\n",
       "      <td>15</td>\n",
       "      <td>FFULL</td>\n",
       "      <td>2019-02-14</td>\n",
       "      <td>2019-02-17</td>\n",
       "      <td>500.0</td>\n",
       "    </tr>\n",
       "    <tr>\n",
       "      <td>4</td>\n",
       "      <td>1</td>\n",
       "      <td>123</td>\n",
       "      <td>3</td>\n",
       "      <td>HOG</td>\n",
       "      <td>2019-02-10</td>\n",
       "      <td>2019-02-17</td>\n",
       "      <td>12.8</td>\n",
       "    </tr>\n",
       "  </tbody>\n",
       "</table>\n",
       "</div>"
      ],
      "text/plain": [
       "   RAMO  CERTIFICADO  NROCOTA PRODUCTO   FEMISION     FENVIO  MONTO\n",
       "0    18          123        2    FFULL 2019-01-03 2019-01-17  123.0\n",
       "1    18          123        2    FFULL 2019-01-03 2019-02-17  123.0\n",
       "2    18          123        3    FFULL 2019-02-03 2019-02-17  123.0\n",
       "3    18          543       15    FFULL 2019-02-14 2019-02-17  500.0\n",
       "4     1          123        3      HOG 2019-02-10 2019-02-17   12.8"
      ]
     },
     "execution_count": 127,
     "metadata": {},
     "output_type": "execute_result"
    }
   ],
   "source": [
    "cinta"
   ]
  },
  {
   "cell_type": "markdown",
   "metadata": {},
   "source": [
    "### Se clasifica si el recibo es nuevo o viejo segun la fecha (se puede tomar otras opciones o traer de la base)"
   ]
  },
  {
   "cell_type": "code",
   "execution_count": 128,
   "metadata": {},
   "outputs": [
    {
     "data": {
      "text/html": [
       "<div>\n",
       "<style scoped>\n",
       "    .dataframe tbody tr th:only-of-type {\n",
       "        vertical-align: middle;\n",
       "    }\n",
       "\n",
       "    .dataframe tbody tr th {\n",
       "        vertical-align: top;\n",
       "    }\n",
       "\n",
       "    .dataframe thead th {\n",
       "        text-align: right;\n",
       "    }\n",
       "</style>\n",
       "<table border=\"1\" class=\"dataframe\">\n",
       "  <thead>\n",
       "    <tr style=\"text-align: right;\">\n",
       "      <th></th>\n",
       "      <th>RAMO</th>\n",
       "      <th>CERTIFICADO</th>\n",
       "      <th>NROCOTA</th>\n",
       "      <th>PRODUCTO</th>\n",
       "      <th>FEMISION</th>\n",
       "      <th>FENVIO</th>\n",
       "      <th>MONTO</th>\n",
       "      <th>FACTURACION</th>\n",
       "      <th>MENVIO</th>\n",
       "    </tr>\n",
       "  </thead>\n",
       "  <tbody>\n",
       "    <tr>\n",
       "      <td>0</td>\n",
       "      <td>18</td>\n",
       "      <td>123</td>\n",
       "      <td>2</td>\n",
       "      <td>FFULL</td>\n",
       "      <td>2019-01-03</td>\n",
       "      <td>2019-01-17</td>\n",
       "      <td>123.0</td>\n",
       "      <td>NUEVO</td>\n",
       "      <td>January</td>\n",
       "    </tr>\n",
       "    <tr>\n",
       "      <td>1</td>\n",
       "      <td>18</td>\n",
       "      <td>123</td>\n",
       "      <td>2</td>\n",
       "      <td>FFULL</td>\n",
       "      <td>2019-01-03</td>\n",
       "      <td>2019-02-17</td>\n",
       "      <td>123.0</td>\n",
       "      <td>OLD</td>\n",
       "      <td>February</td>\n",
       "    </tr>\n",
       "    <tr>\n",
       "      <td>2</td>\n",
       "      <td>18</td>\n",
       "      <td>123</td>\n",
       "      <td>3</td>\n",
       "      <td>FFULL</td>\n",
       "      <td>2019-02-03</td>\n",
       "      <td>2019-02-17</td>\n",
       "      <td>123.0</td>\n",
       "      <td>NUEVO</td>\n",
       "      <td>February</td>\n",
       "    </tr>\n",
       "    <tr>\n",
       "      <td>3</td>\n",
       "      <td>18</td>\n",
       "      <td>543</td>\n",
       "      <td>15</td>\n",
       "      <td>FFULL</td>\n",
       "      <td>2019-02-14</td>\n",
       "      <td>2019-02-17</td>\n",
       "      <td>500.0</td>\n",
       "      <td>NUEVO</td>\n",
       "      <td>February</td>\n",
       "    </tr>\n",
       "    <tr>\n",
       "      <td>4</td>\n",
       "      <td>1</td>\n",
       "      <td>123</td>\n",
       "      <td>3</td>\n",
       "      <td>HOG</td>\n",
       "      <td>2019-02-10</td>\n",
       "      <td>2019-02-17</td>\n",
       "      <td>12.8</td>\n",
       "      <td>NUEVO</td>\n",
       "      <td>February</td>\n",
       "    </tr>\n",
       "  </tbody>\n",
       "</table>\n",
       "</div>"
      ],
      "text/plain": [
       "   RAMO  CERTIFICADO  NROCOTA PRODUCTO   FEMISION     FENVIO  MONTO  \\\n",
       "0    18          123        2    FFULL 2019-01-03 2019-01-17  123.0   \n",
       "1    18          123        2    FFULL 2019-01-03 2019-02-17  123.0   \n",
       "2    18          123        3    FFULL 2019-02-03 2019-02-17  123.0   \n",
       "3    18          543       15    FFULL 2019-02-14 2019-02-17  500.0   \n",
       "4     1          123        3      HOG 2019-02-10 2019-02-17   12.8   \n",
       "\n",
       "  FACTURACION    MENVIO  \n",
       "0       NUEVO   January  \n",
       "1         OLD  February  \n",
       "2       NUEVO  February  \n",
       "3       NUEVO  February  \n",
       "4       NUEVO  February  "
      ]
     },
     "execution_count": 128,
     "metadata": {},
     "output_type": "execute_result"
    }
   ],
   "source": [
    "cinta['FACTURACION'] = cinta.apply(lambda x: 'OLD' if x.FENVIO - x.FEMISION > np.timedelta64(30, 'D') else 'NUEVO', axis = 1)\n",
    "cinta['MENVIO'] = cinta.FENVIO.apply(lambda x:x.strftime('%B'))\n",
    "cinta.head()"
   ]
  },
  {
   "cell_type": "markdown",
   "metadata": {},
   "source": [
    "## Utilizando GroupBy"
   ]
  },
  {
   "cell_type": "code",
   "execution_count": 131,
   "metadata": {},
   "outputs": [
    {
     "data": {
      "text/html": [
       "<div>\n",
       "<style scoped>\n",
       "    .dataframe tbody tr th:only-of-type {\n",
       "        vertical-align: middle;\n",
       "    }\n",
       "\n",
       "    .dataframe tbody tr th {\n",
       "        vertical-align: top;\n",
       "    }\n",
       "\n",
       "    .dataframe thead th {\n",
       "        text-align: right;\n",
       "    }\n",
       "</style>\n",
       "<table border=\"1\" class=\"dataframe\">\n",
       "  <thead>\n",
       "    <tr style=\"text-align: right;\">\n",
       "      <th></th>\n",
       "      <th></th>\n",
       "      <th></th>\n",
       "      <th>MONTO</th>\n",
       "      <th>CANTIDAD</th>\n",
       "    </tr>\n",
       "    <tr>\n",
       "      <th>PRODUCTO</th>\n",
       "      <th>FACTURACION</th>\n",
       "      <th>MENVIO</th>\n",
       "      <th></th>\n",
       "      <th></th>\n",
       "    </tr>\n",
       "  </thead>\n",
       "  <tbody>\n",
       "    <tr>\n",
       "      <td rowspan=\"3\" valign=\"top\">FFULL</td>\n",
       "      <td rowspan=\"2\" valign=\"top\">NUEVO</td>\n",
       "      <td>February</td>\n",
       "      <td>623.0</td>\n",
       "      <td>2</td>\n",
       "    </tr>\n",
       "    <tr>\n",
       "      <td>January</td>\n",
       "      <td>123.0</td>\n",
       "      <td>1</td>\n",
       "    </tr>\n",
       "    <tr>\n",
       "      <td>OLD</td>\n",
       "      <td>February</td>\n",
       "      <td>123.0</td>\n",
       "      <td>1</td>\n",
       "    </tr>\n",
       "    <tr>\n",
       "      <td>HOG</td>\n",
       "      <td>NUEVO</td>\n",
       "      <td>February</td>\n",
       "      <td>12.8</td>\n",
       "      <td>1</td>\n",
       "    </tr>\n",
       "  </tbody>\n",
       "</table>\n",
       "</div>"
      ],
      "text/plain": [
       "                               MONTO  CANTIDAD\n",
       "PRODUCTO FACTURACION MENVIO                   \n",
       "FFULL    NUEVO       February  623.0         2\n",
       "                     January   123.0         1\n",
       "         OLD         February  123.0         1\n",
       "HOG      NUEVO       February   12.8         1"
      ]
     },
     "execution_count": 131,
     "metadata": {},
     "output_type": "execute_result"
    }
   ],
   "source": [
    "cosecha2 = cinta.groupby(['PRODUCTO', 'FACTURACION', 'MENVIO'])['MONTO'].\\\n",
    "    agg(['sum', 'count']).\\\n",
    "    rename(columns = {'sum':'MONTO', 'count': 'CANTIDAD'})\n",
    "cosecha2.head()"
   ]
  },
  {
   "cell_type": "code",
   "execution_count": 132,
   "metadata": {},
   "outputs": [
    {
     "data": {
      "text/html": [
       "<div>\n",
       "<style scoped>\n",
       "    .dataframe tbody tr th:only-of-type {\n",
       "        vertical-align: middle;\n",
       "    }\n",
       "\n",
       "    .dataframe tbody tr th {\n",
       "        vertical-align: top;\n",
       "    }\n",
       "\n",
       "    .dataframe thead tr th {\n",
       "        text-align: left;\n",
       "    }\n",
       "\n",
       "    .dataframe thead tr:last-of-type th {\n",
       "        text-align: right;\n",
       "    }\n",
       "</style>\n",
       "<table border=\"1\" class=\"dataframe\">\n",
       "  <thead>\n",
       "    <tr>\n",
       "      <th>PRODUCTO</th>\n",
       "      <th colspan=\"2\" halign=\"left\">FFULL</th>\n",
       "      <th>HOG</th>\n",
       "    </tr>\n",
       "    <tr>\n",
       "      <th>FACTURACION</th>\n",
       "      <th>NUEVO</th>\n",
       "      <th>OLD</th>\n",
       "      <th>NUEVO</th>\n",
       "    </tr>\n",
       "    <tr>\n",
       "      <th>MENVIO</th>\n",
       "      <th></th>\n",
       "      <th></th>\n",
       "      <th></th>\n",
       "    </tr>\n",
       "  </thead>\n",
       "  <tbody>\n",
       "    <tr>\n",
       "      <td>February</td>\n",
       "      <td>623.0</td>\n",
       "      <td>123.0</td>\n",
       "      <td>12.8</td>\n",
       "    </tr>\n",
       "    <tr>\n",
       "      <td>January</td>\n",
       "      <td>123.0</td>\n",
       "      <td>NaN</td>\n",
       "      <td>NaN</td>\n",
       "    </tr>\n",
       "  </tbody>\n",
       "</table>\n",
       "</div>"
      ],
      "text/plain": [
       "PRODUCTO     FFULL          HOG\n",
       "FACTURACION  NUEVO    OLD NUEVO\n",
       "MENVIO                         \n",
       "February     623.0  123.0  12.8\n",
       "January      123.0    NaN   NaN"
      ]
     },
     "execution_count": 132,
     "metadata": {},
     "output_type": "execute_result"
    }
   ],
   "source": [
    "cosecha2['MONTO'].unstack(level=[0,1])"
   ]
  },
  {
   "cell_type": "code",
   "execution_count": 133,
   "metadata": {
    "scrolled": false
   },
   "outputs": [
    {
     "data": {
      "text/plain": [
       "<matplotlib.axes._subplots.AxesSubplot at 0x187bc0e2fc8>"
      ]
     },
     "execution_count": 133,
     "metadata": {},
     "output_type": "execute_result"
    },
    {
     "data": {
      "image/png": "[encoded data removed]",
      "text/plain": [
       "<Figure size 432x288 with 1 Axes>"
      ]
     },
     "metadata": {
      "needs_background": "light"
     },
     "output_type": "display_data"
    }
   ],
   "source": [
    "cosecha2['MONTO'].unstack(level=[0,1]).plot(kind = 'bar', stacked = True)"
   ]
  },
  {
   "cell_type": "code",
   "execution_count": 134,
   "metadata": {
    "scrolled": true
   },
   "outputs": [
    {
     "data": {
      "text/html": [
       "<div>\n",
       "<style scoped>\n",
       "    .dataframe tbody tr th:only-of-type {\n",
       "        vertical-align: middle;\n",
       "    }\n",
       "\n",
       "    .dataframe tbody tr th {\n",
       "        vertical-align: top;\n",
       "    }\n",
       "\n",
       "    .dataframe thead tr th {\n",
       "        text-align: left;\n",
       "    }\n",
       "\n",
       "    .dataframe thead tr:last-of-type th {\n",
       "        text-align: right;\n",
       "    }\n",
       "</style>\n",
       "<table border=\"1\" class=\"dataframe\">\n",
       "  <thead>\n",
       "    <tr>\n",
       "      <th>PRODUCTO</th>\n",
       "      <th colspan=\"2\" halign=\"left\">FFULL</th>\n",
       "      <th>HOG</th>\n",
       "    </tr>\n",
       "    <tr>\n",
       "      <th>FACTURACION</th>\n",
       "      <th>NUEVO</th>\n",
       "      <th>OLD</th>\n",
       "      <th>NUEVO</th>\n",
       "    </tr>\n",
       "    <tr>\n",
       "      <th>MENVIO</th>\n",
       "      <th></th>\n",
       "      <th></th>\n",
       "      <th></th>\n",
       "    </tr>\n",
       "  </thead>\n",
       "  <tbody>\n",
       "    <tr>\n",
       "      <td>February</td>\n",
       "      <td>2.0</td>\n",
       "      <td>1.0</td>\n",
       "      <td>1.0</td>\n",
       "    </tr>\n",
       "    <tr>\n",
       "      <td>January</td>\n",
       "      <td>1.0</td>\n",
       "      <td>NaN</td>\n",
       "      <td>NaN</td>\n",
       "    </tr>\n",
       "  </tbody>\n",
       "</table>\n",
       "</div>"
      ],
      "text/plain": [
       "PRODUCTO    FFULL        HOG\n",
       "FACTURACION NUEVO  OLD NUEVO\n",
       "MENVIO                      \n",
       "February      2.0  1.0   1.0\n",
       "January       1.0  NaN   NaN"
      ]
     },
     "execution_count": 134,
     "metadata": {},
     "output_type": "execute_result"
    }
   ],
   "source": [
    "cosecha2['CANTIDAD'].unstack(level=[0,1])"
   ]
  },
  {
   "cell_type": "code",
   "execution_count": 135,
   "metadata": {
    "scrolled": true
   },
   "outputs": [
    {
     "data": {
      "text/plain": [
       "<matplotlib.axes._subplots.AxesSubplot at 0x187bb9ec288>"
      ]
     },
     "execution_count": 135,
     "metadata": {},
     "output_type": "execute_result"
    },
    {
     "data": {
      "image/png": "[encoded data removed]",
      "text/plain": [
       "<Figure size 432x288 with 1 Axes>"
      ]
     },
     "metadata": {
      "needs_background": "light"
     },
     "output_type": "display_data"
    }
   ],
   "source": [
    "cosecha2['CANTIDAD'].unstack(level=[0,1]).plot(kind = 'bar', stacked = True)"
   ]
  },
  {
   "cell_type": "markdown",
   "metadata": {},
   "source": [
    "## Utillizando Pivot Table"
   ]
  },
  {
   "cell_type": "code",
   "execution_count": 136,
   "metadata": {},
   "outputs": [
    {
     "data": {
      "text/html": [
       "<div>\n",
       "<style scoped>\n",
       "    .dataframe tbody tr th:only-of-type {\n",
       "        vertical-align: middle;\n",
       "    }\n",
       "\n",
       "    .dataframe tbody tr th {\n",
       "        vertical-align: top;\n",
       "    }\n",
       "\n",
       "    .dataframe thead th {\n",
       "        text-align: right;\n",
       "    }\n",
       "</style>\n",
       "<table border=\"1\" class=\"dataframe\">\n",
       "  <thead>\n",
       "    <tr style=\"text-align: right;\">\n",
       "      <th></th>\n",
       "      <th>RAMO</th>\n",
       "      <th>CERTIFICADO</th>\n",
       "      <th>NROCOTA</th>\n",
       "      <th>PRODUCTO</th>\n",
       "      <th>FEMISION</th>\n",
       "      <th>FENVIO</th>\n",
       "      <th>MONTO</th>\n",
       "      <th>FACTURACION</th>\n",
       "      <th>MENVIO</th>\n",
       "    </tr>\n",
       "  </thead>\n",
       "  <tbody>\n",
       "    <tr>\n",
       "      <td>0</td>\n",
       "      <td>18</td>\n",
       "      <td>123</td>\n",
       "      <td>2</td>\n",
       "      <td>FFULL</td>\n",
       "      <td>2019-01-03</td>\n",
       "      <td>2019-01-17</td>\n",
       "      <td>123.0</td>\n",
       "      <td>NUEVO</td>\n",
       "      <td>January</td>\n",
       "    </tr>\n",
       "    <tr>\n",
       "      <td>1</td>\n",
       "      <td>18</td>\n",
       "      <td>123</td>\n",
       "      <td>2</td>\n",
       "      <td>FFULL</td>\n",
       "      <td>2019-01-03</td>\n",
       "      <td>2019-02-17</td>\n",
       "      <td>123.0</td>\n",
       "      <td>OLD</td>\n",
       "      <td>February</td>\n",
       "    </tr>\n",
       "    <tr>\n",
       "      <td>2</td>\n",
       "      <td>18</td>\n",
       "      <td>123</td>\n",
       "      <td>3</td>\n",
       "      <td>FFULL</td>\n",
       "      <td>2019-02-03</td>\n",
       "      <td>2019-02-17</td>\n",
       "      <td>123.0</td>\n",
       "      <td>NUEVO</td>\n",
       "      <td>February</td>\n",
       "    </tr>\n",
       "    <tr>\n",
       "      <td>3</td>\n",
       "      <td>18</td>\n",
       "      <td>543</td>\n",
       "      <td>15</td>\n",
       "      <td>FFULL</td>\n",
       "      <td>2019-02-14</td>\n",
       "      <td>2019-02-17</td>\n",
       "      <td>500.0</td>\n",
       "      <td>NUEVO</td>\n",
       "      <td>February</td>\n",
       "    </tr>\n",
       "    <tr>\n",
       "      <td>4</td>\n",
       "      <td>1</td>\n",
       "      <td>123</td>\n",
       "      <td>3</td>\n",
       "      <td>HOG</td>\n",
       "      <td>2019-02-10</td>\n",
       "      <td>2019-02-17</td>\n",
       "      <td>12.8</td>\n",
       "      <td>NUEVO</td>\n",
       "      <td>February</td>\n",
       "    </tr>\n",
       "  </tbody>\n",
       "</table>\n",
       "</div>"
      ],
      "text/plain": [
       "   RAMO  CERTIFICADO  NROCOTA PRODUCTO   FEMISION     FENVIO  MONTO  \\\n",
       "0    18          123        2    FFULL 2019-01-03 2019-01-17  123.0   \n",
       "1    18          123        2    FFULL 2019-01-03 2019-02-17  123.0   \n",
       "2    18          123        3    FFULL 2019-02-03 2019-02-17  123.0   \n",
       "3    18          543       15    FFULL 2019-02-14 2019-02-17  500.0   \n",
       "4     1          123        3      HOG 2019-02-10 2019-02-17   12.8   \n",
       "\n",
       "  FACTURACION    MENVIO  \n",
       "0       NUEVO   January  \n",
       "1         OLD  February  \n",
       "2       NUEVO  February  \n",
       "3       NUEVO  February  \n",
       "4       NUEVO  February  "
      ]
     },
     "execution_count": 136,
     "metadata": {},
     "output_type": "execute_result"
    }
   ],
   "source": [
    "cinta.head()"
   ]
  },
  {
   "cell_type": "code",
   "execution_count": 137,
   "metadata": {
    "scrolled": true
   },
   "outputs": [
    {
     "data": {
      "text/html": [
       "<div>\n",
       "<style scoped>\n",
       "    .dataframe tbody tr th:only-of-type {\n",
       "        vertical-align: middle;\n",
       "    }\n",
       "\n",
       "    .dataframe tbody tr th {\n",
       "        vertical-align: top;\n",
       "    }\n",
       "\n",
       "    .dataframe thead tr th {\n",
       "        text-align: left;\n",
       "    }\n",
       "\n",
       "    .dataframe thead tr:last-of-type th {\n",
       "        text-align: right;\n",
       "    }\n",
       "</style>\n",
       "<table border=\"1\" class=\"dataframe\">\n",
       "  <thead>\n",
       "    <tr>\n",
       "      <th></th>\n",
       "      <th colspan=\"3\" halign=\"left\">MONTO</th>\n",
       "    </tr>\n",
       "    <tr>\n",
       "      <th>PRODUCTO</th>\n",
       "      <th colspan=\"2\" halign=\"left\">FFULL</th>\n",
       "      <th>HOG</th>\n",
       "    </tr>\n",
       "    <tr>\n",
       "      <th>FACTURACION</th>\n",
       "      <th>NUEVO</th>\n",
       "      <th>OLD</th>\n",
       "      <th>NUEVO</th>\n",
       "    </tr>\n",
       "    <tr>\n",
       "      <th>MENVIO</th>\n",
       "      <th></th>\n",
       "      <th></th>\n",
       "      <th></th>\n",
       "    </tr>\n",
       "  </thead>\n",
       "  <tbody>\n",
       "    <tr>\n",
       "      <td>February</td>\n",
       "      <td>623.0</td>\n",
       "      <td>123.0</td>\n",
       "      <td>12.8</td>\n",
       "    </tr>\n",
       "    <tr>\n",
       "      <td>January</td>\n",
       "      <td>123.0</td>\n",
       "      <td>NaN</td>\n",
       "      <td>NaN</td>\n",
       "    </tr>\n",
       "  </tbody>\n",
       "</table>\n",
       "</div>"
      ],
      "text/plain": [
       "             MONTO             \n",
       "PRODUCTO     FFULL          HOG\n",
       "FACTURACION  NUEVO    OLD NUEVO\n",
       "MENVIO                         \n",
       "February     623.0  123.0  12.8\n",
       "January      123.0    NaN   NaN"
      ]
     },
     "execution_count": 137,
     "metadata": {},
     "output_type": "execute_result"
    }
   ],
   "source": [
    "pt = cinta.pivot_table(values = ['MONTO'], index = 'MENVIO', columns = ['PRODUCTO', 'FACTURACION'], aggfunc='sum')\n",
    "pt"
   ]
  },
  {
   "cell_type": "code",
   "execution_count": 138,
   "metadata": {
    "scrolled": false
   },
   "outputs": [
    {
     "data": {
      "text/plain": [
       "<matplotlib.axes._subplots.AxesSubplot at 0x187bd19e808>"
      ]
     },
     "execution_count": 138,
     "metadata": {},
     "output_type": "execute_result"
    },
    {
     "data": {
      "image/png": "[encoded data removed]",
      "text/plain": [
       "<Figure size 432x288 with 1 Axes>"
      ]
     },
     "metadata": {
      "needs_background": "light"
     },
     "output_type": "display_data"
    }
   ],
   "source": [
    "pt.plot(kind = 'bar', stacked = True)"
   ]
  },
  {
   "cell_type": "code",
   "execution_count": 143,
   "metadata": {},
   "outputs": [
    {
     "data": {
      "text/html": [
       "<div>\n",
       "<style scoped>\n",
       "    .dataframe tbody tr th:only-of-type {\n",
       "        vertical-align: middle;\n",
       "    }\n",
       "\n",
       "    .dataframe tbody tr th {\n",
       "        vertical-align: top;\n",
       "    }\n",
       "\n",
       "    .dataframe thead tr th {\n",
       "        text-align: left;\n",
       "    }\n",
       "\n",
       "    .dataframe thead tr:last-of-type th {\n",
       "        text-align: right;\n",
       "    }\n",
       "</style>\n",
       "<table border=\"1\" class=\"dataframe\">\n",
       "  <thead>\n",
       "    <tr>\n",
       "      <th></th>\n",
       "      <th></th>\n",
       "      <th colspan=\"2\" halign=\"left\">MONTO</th>\n",
       "    </tr>\n",
       "    <tr>\n",
       "      <th></th>\n",
       "      <th>MENVIO</th>\n",
       "      <th>February</th>\n",
       "      <th>January</th>\n",
       "    </tr>\n",
       "    <tr>\n",
       "      <th>PRODUCTO</th>\n",
       "      <th>FACTURACION</th>\n",
       "      <th></th>\n",
       "      <th></th>\n",
       "    </tr>\n",
       "  </thead>\n",
       "  <tbody>\n",
       "    <tr>\n",
       "      <td rowspan=\"2\" valign=\"top\">FFULL</td>\n",
       "      <td>NUEVO</td>\n",
       "      <td>623.0</td>\n",
       "      <td>123.0</td>\n",
       "    </tr>\n",
       "    <tr>\n",
       "      <td>OLD</td>\n",
       "      <td>123.0</td>\n",
       "      <td>NaN</td>\n",
       "    </tr>\n",
       "    <tr>\n",
       "      <td>HOG</td>\n",
       "      <td>NUEVO</td>\n",
       "      <td>12.8</td>\n",
       "      <td>NaN</td>\n",
       "    </tr>\n",
       "  </tbody>\n",
       "</table>\n",
       "</div>"
      ],
      "text/plain": [
       "                        MONTO        \n",
       "MENVIO               February January\n",
       "PRODUCTO FACTURACION                 \n",
       "FFULL    NUEVO          623.0   123.0\n",
       "         OLD            123.0     NaN\n",
       "HOG      NUEVO           12.8     NaN"
      ]
     },
     "execution_count": 143,
     "metadata": {},
     "output_type": "execute_result"
    }
   ],
   "source": [
    "pt.stack(level = [1,2]).unstack(level = 0).head()"
   ]
  },
  {
   "cell_type": "markdown",
   "metadata": {},
   "source": [
    "## Facturacion"
   ]
  },
  {
   "cell_type": "code",
   "execution_count": 4,
   "metadata": {},
   "outputs": [
    {
     "data": {
      "text/html": [
       "<div>\n",
       "<style scoped>\n",
       "    .dataframe tbody tr th:only-of-type {\n",
       "        vertical-align: middle;\n",
       "    }\n",
       "\n",
       "    .dataframe tbody tr th {\n",
       "        vertical-align: top;\n",
       "    }\n",
       "\n",
       "    .dataframe thead th {\n",
       "        text-align: right;\n",
       "    }\n",
       "</style>\n",
       "<table border=\"1\" class=\"dataframe\">\n",
       "  <thead>\n",
       "    <tr style=\"text-align: right;\">\n",
       "      <th></th>\n",
       "      <th>RAMO</th>\n",
       "      <th>CERTIFICADO</th>\n",
       "      <th>NROCOTA</th>\n",
       "      <th>PRODUCTO</th>\n",
       "      <th>FEMISION</th>\n",
       "      <th>FENVIO</th>\n",
       "      <th>MONTO</th>\n",
       "      <th>STATUS</th>\n",
       "    </tr>\n",
       "  </thead>\n",
       "  <tbody>\n",
       "    <tr>\n",
       "      <td>0</td>\n",
       "      <td>18</td>\n",
       "      <td>111</td>\n",
       "      <td>2</td>\n",
       "      <td>FFULL</td>\n",
       "      <td>2019-01-04</td>\n",
       "      <td>2019-02-17</td>\n",
       "      <td>1000.0</td>\n",
       "      <td>COBRADO</td>\n",
       "    </tr>\n",
       "    <tr>\n",
       "      <td>1</td>\n",
       "      <td>18</td>\n",
       "      <td>123</td>\n",
       "      <td>2</td>\n",
       "      <td>FFULL</td>\n",
       "      <td>2019-01-03</td>\n",
       "      <td>2019-02-17</td>\n",
       "      <td>123.0</td>\n",
       "      <td>PEND</td>\n",
       "    </tr>\n",
       "    <tr>\n",
       "      <td>2</td>\n",
       "      <td>18</td>\n",
       "      <td>123</td>\n",
       "      <td>3</td>\n",
       "      <td>FFULL</td>\n",
       "      <td>2019-02-03</td>\n",
       "      <td>2019-02-17</td>\n",
       "      <td>444.0</td>\n",
       "      <td>COBRADO</td>\n",
       "    </tr>\n",
       "    <tr>\n",
       "      <td>3</td>\n",
       "      <td>18</td>\n",
       "      <td>543</td>\n",
       "      <td>15</td>\n",
       "      <td>FFULL</td>\n",
       "      <td>2019-02-14</td>\n",
       "      <td>2019-02-17</td>\n",
       "      <td>500.0</td>\n",
       "      <td>COBRADO</td>\n",
       "    </tr>\n",
       "    <tr>\n",
       "      <td>4</td>\n",
       "      <td>1</td>\n",
       "      <td>123</td>\n",
       "      <td>3</td>\n",
       "      <td>HOG</td>\n",
       "      <td>2019-02-10</td>\n",
       "      <td>2019-02-17</td>\n",
       "      <td>12.8</td>\n",
       "      <td>PEND</td>\n",
       "    </tr>\n",
       "  </tbody>\n",
       "</table>\n",
       "</div>"
      ],
      "text/plain": [
       "   RAMO  CERTIFICADO  NROCOTA PRODUCTO   FEMISION     FENVIO   MONTO   STATUS\n",
       "0    18          111        2    FFULL 2019-01-04 2019-02-17  1000.0  COBRADO\n",
       "1    18          123        2    FFULL 2019-01-03 2019-02-17   123.0     PEND\n",
       "2    18          123        3    FFULL 2019-02-03 2019-02-17   444.0  COBRADO\n",
       "3    18          543       15    FFULL 2019-02-14 2019-02-17   500.0  COBRADO\n",
       "4     1          123        3      HOG 2019-02-10 2019-02-17    12.8     PEND"
      ]
     },
     "execution_count": 4,
     "metadata": {},
     "output_type": "execute_result"
    }
   ],
   "source": [
    "recibos = pd.read_excel('Cinta.xlsx', sheet_name='RECIBOS')\n",
    "recibos.head()"
   ]
  },
  {
   "cell_type": "code",
   "execution_count": 5,
   "metadata": {},
   "outputs": [],
   "source": [
    "recibos['MEMISOIN'] = recibos.FEMISION.apply(lambda x:x.strftime('%Y%m'))"
   ]
  },
  {
   "cell_type": "code",
   "execution_count": 6,
   "metadata": {},
   "outputs": [
    {
     "data": {
      "text/html": [
       "<div>\n",
       "<style scoped>\n",
       "    .dataframe tbody tr th:only-of-type {\n",
       "        vertical-align: middle;\n",
       "    }\n",
       "\n",
       "    .dataframe tbody tr th {\n",
       "        vertical-align: top;\n",
       "    }\n",
       "\n",
       "    .dataframe thead th {\n",
       "        text-align: right;\n",
       "    }\n",
       "</style>\n",
       "<table border=\"1\" class=\"dataframe\">\n",
       "  <thead>\n",
       "    <tr style=\"text-align: right;\">\n",
       "      <th></th>\n",
       "      <th>RAMO</th>\n",
       "      <th>CERTIFICADO</th>\n",
       "      <th>NROCOTA</th>\n",
       "      <th>PRODUCTO</th>\n",
       "      <th>FEMISION</th>\n",
       "      <th>FENVIO</th>\n",
       "      <th>MONTO</th>\n",
       "      <th>STATUS</th>\n",
       "      <th>MEMISOIN</th>\n",
       "    </tr>\n",
       "  </thead>\n",
       "  <tbody>\n",
       "    <tr>\n",
       "      <td>0</td>\n",
       "      <td>18</td>\n",
       "      <td>111</td>\n",
       "      <td>2</td>\n",
       "      <td>FFULL</td>\n",
       "      <td>2019-01-04</td>\n",
       "      <td>2019-02-17</td>\n",
       "      <td>1000.0</td>\n",
       "      <td>COBRADO</td>\n",
       "      <td>201901</td>\n",
       "    </tr>\n",
       "    <tr>\n",
       "      <td>1</td>\n",
       "      <td>18</td>\n",
       "      <td>123</td>\n",
       "      <td>2</td>\n",
       "      <td>FFULL</td>\n",
       "      <td>2019-01-03</td>\n",
       "      <td>2019-02-17</td>\n",
       "      <td>123.0</td>\n",
       "      <td>PEND</td>\n",
       "      <td>201901</td>\n",
       "    </tr>\n",
       "    <tr>\n",
       "      <td>2</td>\n",
       "      <td>18</td>\n",
       "      <td>123</td>\n",
       "      <td>3</td>\n",
       "      <td>FFULL</td>\n",
       "      <td>2019-02-03</td>\n",
       "      <td>2019-02-17</td>\n",
       "      <td>444.0</td>\n",
       "      <td>COBRADO</td>\n",
       "      <td>201902</td>\n",
       "    </tr>\n",
       "    <tr>\n",
       "      <td>3</td>\n",
       "      <td>18</td>\n",
       "      <td>543</td>\n",
       "      <td>15</td>\n",
       "      <td>FFULL</td>\n",
       "      <td>2019-02-14</td>\n",
       "      <td>2019-02-17</td>\n",
       "      <td>500.0</td>\n",
       "      <td>COBRADO</td>\n",
       "      <td>201902</td>\n",
       "    </tr>\n",
       "    <tr>\n",
       "      <td>4</td>\n",
       "      <td>1</td>\n",
       "      <td>123</td>\n",
       "      <td>3</td>\n",
       "      <td>HOG</td>\n",
       "      <td>2019-02-10</td>\n",
       "      <td>2019-02-17</td>\n",
       "      <td>12.8</td>\n",
       "      <td>PEND</td>\n",
       "      <td>201902</td>\n",
       "    </tr>\n",
       "  </tbody>\n",
       "</table>\n",
       "</div>"
      ],
      "text/plain": [
       "   RAMO  CERTIFICADO  NROCOTA PRODUCTO   FEMISION     FENVIO   MONTO   STATUS  \\\n",
       "0    18          111        2    FFULL 2019-01-04 2019-02-17  1000.0  COBRADO   \n",
       "1    18          123        2    FFULL 2019-01-03 2019-02-17   123.0     PEND   \n",
       "2    18          123        3    FFULL 2019-02-03 2019-02-17   444.0  COBRADO   \n",
       "3    18          543       15    FFULL 2019-02-14 2019-02-17   500.0  COBRADO   \n",
       "4     1          123        3      HOG 2019-02-10 2019-02-17    12.8     PEND   \n",
       "\n",
       "  MEMISOIN  \n",
       "0   201901  \n",
       "1   201901  \n",
       "2   201902  \n",
       "3   201902  \n",
       "4   201902  "
      ]
     },
     "execution_count": 6,
     "metadata": {},
     "output_type": "execute_result"
    }
   ],
   "source": [
    "recibos.head()"
   ]
  },
  {
   "cell_type": "code",
   "execution_count": 7,
   "metadata": {
    "scrolled": false
   },
   "outputs": [
    {
     "data": {
      "text/html": [
       "<div>\n",
       "<style scoped>\n",
       "    .dataframe tbody tr th:only-of-type {\n",
       "        vertical-align: middle;\n",
       "    }\n",
       "\n",
       "    .dataframe tbody tr th {\n",
       "        vertical-align: top;\n",
       "    }\n",
       "\n",
       "    .dataframe thead tr th {\n",
       "        text-align: left;\n",
       "    }\n",
       "\n",
       "    .dataframe thead tr:last-of-type th {\n",
       "        text-align: right;\n",
       "    }\n",
       "</style>\n",
       "<table border=\"1\" class=\"dataframe\">\n",
       "  <thead>\n",
       "    <tr>\n",
       "      <th></th>\n",
       "      <th colspan=\"2\" halign=\"left\">MONTO</th>\n",
       "    </tr>\n",
       "    <tr>\n",
       "      <th>STATUS</th>\n",
       "      <th>COBRADO</th>\n",
       "      <th>PEND</th>\n",
       "    </tr>\n",
       "    <tr>\n",
       "      <th>MEMISOIN</th>\n",
       "      <th></th>\n",
       "      <th></th>\n",
       "    </tr>\n",
       "  </thead>\n",
       "  <tbody>\n",
       "    <tr>\n",
       "      <td>201901</td>\n",
       "      <td>1000.0</td>\n",
       "      <td>123.0</td>\n",
       "    </tr>\n",
       "    <tr>\n",
       "      <td>201902</td>\n",
       "      <td>944.0</td>\n",
       "      <td>12.8</td>\n",
       "    </tr>\n",
       "  </tbody>\n",
       "</table>\n",
       "</div>"
      ],
      "text/plain": [
       "           MONTO       \n",
       "STATUS   COBRADO   PEND\n",
       "MEMISOIN               \n",
       "201901    1000.0  123.0\n",
       "201902     944.0   12.8"
      ]
     },
     "execution_count": 7,
     "metadata": {},
     "output_type": "execute_result"
    }
   ],
   "source": [
    "ptr = recibos.pivot_table(values = ['MONTO'], index = 'MEMISOIN', columns = ['STATUS'], aggfunc='sum')\n",
    "ptr"
   ]
  },
  {
   "cell_type": "code",
   "execution_count": 8,
   "metadata": {},
   "outputs": [],
   "source": [
    "ptr['TOTAL'] = ptr.apply(sum, axis = 1)"
   ]
  },
  {
   "cell_type": "code",
   "execution_count": 9,
   "metadata": {},
   "outputs": [
    {
     "data": {
      "text/html": [
       "<div>\n",
       "<style scoped>\n",
       "    .dataframe tbody tr th:only-of-type {\n",
       "        vertical-align: middle;\n",
       "    }\n",
       "\n",
       "    .dataframe tbody tr th {\n",
       "        vertical-align: top;\n",
       "    }\n",
       "\n",
       "    .dataframe thead tr th {\n",
       "        text-align: left;\n",
       "    }\n",
       "\n",
       "    .dataframe thead tr:last-of-type th {\n",
       "        text-align: right;\n",
       "    }\n",
       "</style>\n",
       "<table border=\"1\" class=\"dataframe\">\n",
       "  <thead>\n",
       "    <tr>\n",
       "      <th></th>\n",
       "      <th colspan=\"2\" halign=\"left\">MONTO</th>\n",
       "      <th>TOTAL</th>\n",
       "    </tr>\n",
       "    <tr>\n",
       "      <th>STATUS</th>\n",
       "      <th>COBRADO</th>\n",
       "      <th>PEND</th>\n",
       "      <th></th>\n",
       "    </tr>\n",
       "    <tr>\n",
       "      <th>MEMISOIN</th>\n",
       "      <th></th>\n",
       "      <th></th>\n",
       "      <th></th>\n",
       "    </tr>\n",
       "  </thead>\n",
       "  <tbody>\n",
       "    <tr>\n",
       "      <td>201901</td>\n",
       "      <td>1000.0</td>\n",
       "      <td>123.0</td>\n",
       "      <td>1123.0</td>\n",
       "    </tr>\n",
       "    <tr>\n",
       "      <td>201902</td>\n",
       "      <td>944.0</td>\n",
       "      <td>12.8</td>\n",
       "      <td>956.8</td>\n",
       "    </tr>\n",
       "  </tbody>\n",
       "</table>\n",
       "</div>"
      ],
      "text/plain": [
       "           MONTO          TOTAL\n",
       "STATUS   COBRADO   PEND        \n",
       "MEMISOIN                       \n",
       "201901    1000.0  123.0  1123.0\n",
       "201902     944.0   12.8   956.8"
      ]
     },
     "execution_count": 9,
     "metadata": {},
     "output_type": "execute_result"
    }
   ],
   "source": [
    "ptr"
   ]
  },
  {
   "cell_type": "code",
   "execution_count": 10,
   "metadata": {},
   "outputs": [
    {
     "data": {
      "text/plain": [
       "<matplotlib.axes._subplots.AxesSubplot at 0x1424f6e08c8>"
      ]
     },
     "execution_count": 10,
     "metadata": {},
     "output_type": "execute_result"
    },
    {
     "data": {
      "image/png": "[encoded data removed]",
      "text/plain": [
       "<Figure size 720x360 with 1 Axes>"
      ]
     },
     "metadata": {
      "needs_background": "light"
     },
     "output_type": "display_data"
    }
   ],
   "source": [
    "ptr.loc[:,:'MONTO'].plot(kind = 'bar', stacked = True, figsize = (10,5))"
   ]
  },
  {
   "cell_type": "code",
   "execution_count": 11,
   "metadata": {
    "scrolled": true
   },
   "outputs": [
    {
     "data": {
      "text/html": [
       "<div>\n",
       "<style scoped>\n",
       "    .dataframe tbody tr th:only-of-type {\n",
       "        vertical-align: middle;\n",
       "    }\n",
       "\n",
       "    .dataframe tbody tr th {\n",
       "        vertical-align: top;\n",
       "    }\n",
       "\n",
       "    .dataframe thead tr th {\n",
       "        text-align: left;\n",
       "    }\n",
       "\n",
       "    .dataframe thead tr:last-of-type th {\n",
       "        text-align: right;\n",
       "    }\n",
       "</style>\n",
       "<table border=\"1\" class=\"dataframe\">\n",
       "  <thead>\n",
       "    <tr>\n",
       "      <th></th>\n",
       "      <th colspan=\"3\" halign=\"left\">MONTO</th>\n",
       "    </tr>\n",
       "    <tr>\n",
       "      <th>STATUS</th>\n",
       "      <th>COBRADO</th>\n",
       "      <th colspan=\"2\" halign=\"left\">PEND</th>\n",
       "    </tr>\n",
       "    <tr>\n",
       "      <th>PRODUCTO</th>\n",
       "      <th>FFULL</th>\n",
       "      <th>FFULL</th>\n",
       "      <th>HOG</th>\n",
       "    </tr>\n",
       "    <tr>\n",
       "      <th>MEMISOIN</th>\n",
       "      <th></th>\n",
       "      <th></th>\n",
       "      <th></th>\n",
       "    </tr>\n",
       "  </thead>\n",
       "  <tbody>\n",
       "    <tr>\n",
       "      <td>201901</td>\n",
       "      <td>1000.0</td>\n",
       "      <td>123.0</td>\n",
       "      <td>NaN</td>\n",
       "    </tr>\n",
       "    <tr>\n",
       "      <td>201902</td>\n",
       "      <td>944.0</td>\n",
       "      <td>NaN</td>\n",
       "      <td>12.8</td>\n",
       "    </tr>\n",
       "  </tbody>\n",
       "</table>\n",
       "</div>"
      ],
      "text/plain": [
       "           MONTO             \n",
       "STATUS   COBRADO   PEND      \n",
       "PRODUCTO   FFULL  FFULL   HOG\n",
       "MEMISOIN                     \n",
       "201901    1000.0  123.0   NaN\n",
       "201902     944.0    NaN  12.8"
      ]
     },
     "execution_count": 11,
     "metadata": {},
     "output_type": "execute_result"
    }
   ],
   "source": [
    "recibos.pivot_table(values = ['MONTO'], index = 'MEMISOIN', columns = ['STATUS', 'PRODUCTO'], aggfunc='sum')"
   ]
  },
  {
   "cell_type": "markdown",
   "metadata": {},
   "source": [
    "## Operaciones de recibos"
   ]
  },
  {
   "cell_type": "code",
   "execution_count": 12,
   "metadata": {},
   "outputs": [
    {
     "data": {
      "text/html": [
       "<div>\n",
       "<style scoped>\n",
       "    .dataframe tbody tr th:only-of-type {\n",
       "        vertical-align: middle;\n",
       "    }\n",
       "\n",
       "    .dataframe tbody tr th {\n",
       "        vertical-align: top;\n",
       "    }\n",
       "\n",
       "    .dataframe thead th {\n",
       "        text-align: right;\n",
       "    }\n",
       "</style>\n",
       "<table border=\"1\" class=\"dataframe\">\n",
       "  <thead>\n",
       "    <tr style=\"text-align: right;\">\n",
       "      <th></th>\n",
       "      <th>FECHA</th>\n",
       "      <th>RAMO</th>\n",
       "      <th>CERT</th>\n",
       "      <th>OPE</th>\n",
       "      <th>FEMIREC</th>\n",
       "      <th>MONTO</th>\n",
       "    </tr>\n",
       "  </thead>\n",
       "  <tbody>\n",
       "    <tr>\n",
       "      <td>0</td>\n",
       "      <td>2019-01-01</td>\n",
       "      <td>1</td>\n",
       "      <td>1</td>\n",
       "      <td>EMI</td>\n",
       "      <td>2019-01-01</td>\n",
       "      <td>1000</td>\n",
       "    </tr>\n",
       "    <tr>\n",
       "      <td>1</td>\n",
       "      <td>2019-01-02</td>\n",
       "      <td>18</td>\n",
       "      <td>2</td>\n",
       "      <td>COB</td>\n",
       "      <td>2019-12-12</td>\n",
       "      <td>1000</td>\n",
       "    </tr>\n",
       "    <tr>\n",
       "      <td>2</td>\n",
       "      <td>2019-01-15</td>\n",
       "      <td>32</td>\n",
       "      <td>3</td>\n",
       "      <td>ANU</td>\n",
       "      <td>2019-12-30</td>\n",
       "      <td>950</td>\n",
       "    </tr>\n",
       "    <tr>\n",
       "      <td>3</td>\n",
       "      <td>2019-02-03</td>\n",
       "      <td>18</td>\n",
       "      <td>4</td>\n",
       "      <td>EMI</td>\n",
       "      <td>2019-02-03</td>\n",
       "      <td>1000</td>\n",
       "    </tr>\n",
       "    <tr>\n",
       "      <td>4</td>\n",
       "      <td>2019-02-10</td>\n",
       "      <td>1</td>\n",
       "      <td>5</td>\n",
       "      <td>COB</td>\n",
       "      <td>2019-01-05</td>\n",
       "      <td>900</td>\n",
       "    </tr>\n",
       "  </tbody>\n",
       "</table>\n",
       "</div>"
      ],
      "text/plain": [
       "       FECHA  RAMO  CERT  OPE    FEMIREC  MONTO\n",
       "0 2019-01-01     1     1  EMI 2019-01-01   1000\n",
       "1 2019-01-02    18     2  COB 2019-12-12   1000\n",
       "2 2019-01-15    32     3  ANU 2019-12-30    950\n",
       "3 2019-02-03    18     4  EMI 2019-02-03   1000\n",
       "4 2019-02-10     1     5  COB 2019-01-05    900"
      ]
     },
     "execution_count": 12,
     "metadata": {},
     "output_type": "execute_result"
    }
   ],
   "source": [
    "operecibos = pd.read_excel('Cinta.xlsx', sheet_name='OPEREC')\n",
    "operecibos.head()"
   ]
  },
  {
   "cell_type": "code",
   "execution_count": 86,
   "metadata": {},
   "outputs": [
    {
     "data": {
      "text/html": [
       "<div>\n",
       "<style scoped>\n",
       "    .dataframe tbody tr th:only-of-type {\n",
       "        vertical-align: middle;\n",
       "    }\n",
       "\n",
       "    .dataframe tbody tr th {\n",
       "        vertical-align: top;\n",
       "    }\n",
       "\n",
       "    .dataframe thead th {\n",
       "        text-align: right;\n",
       "    }\n",
       "</style>\n",
       "<table border=\"1\" class=\"dataframe\">\n",
       "  <thead>\n",
       "    <tr style=\"text-align: right;\">\n",
       "      <th></th>\n",
       "      <th>FECHA</th>\n",
       "      <th>MONTO</th>\n",
       "      <th>OPE</th>\n",
       "      <th>PROD</th>\n",
       "      <th>FCORTE</th>\n",
       "      <th>CONT</th>\n",
       "    </tr>\n",
       "  </thead>\n",
       "  <tbody>\n",
       "    <tr>\n",
       "      <td>0</td>\n",
       "      <td>2018-01-05</td>\n",
       "      <td>218</td>\n",
       "      <td>COB</td>\n",
       "      <td>ACPC01</td>\n",
       "      <td>201801</td>\n",
       "      <td>1.0</td>\n",
       "    </tr>\n",
       "    <tr>\n",
       "      <td>1</td>\n",
       "      <td>2018-11-06</td>\n",
       "      <td>180</td>\n",
       "      <td>EMI</td>\n",
       "      <td>FFULL</td>\n",
       "      <td>201811</td>\n",
       "      <td>1.0</td>\n",
       "    </tr>\n",
       "    <tr>\n",
       "      <td>2</td>\n",
       "      <td>2018-04-20</td>\n",
       "      <td>298</td>\n",
       "      <td>COB</td>\n",
       "      <td>ACPC01</td>\n",
       "      <td>201805</td>\n",
       "      <td>1.0</td>\n",
       "    </tr>\n",
       "    <tr>\n",
       "      <td>3</td>\n",
       "      <td>2018-03-04</td>\n",
       "      <td>250</td>\n",
       "      <td>COB</td>\n",
       "      <td>FFULL</td>\n",
       "      <td>201803</td>\n",
       "      <td>1.0</td>\n",
       "    </tr>\n",
       "    <tr>\n",
       "      <td>4</td>\n",
       "      <td>2018-04-14</td>\n",
       "      <td>299</td>\n",
       "      <td>EMI</td>\n",
       "      <td>FFULL</td>\n",
       "      <td>201804</td>\n",
       "      <td>1.0</td>\n",
       "    </tr>\n",
       "    <tr>\n",
       "      <td>...</td>\n",
       "      <td>...</td>\n",
       "      <td>...</td>\n",
       "      <td>...</td>\n",
       "      <td>...</td>\n",
       "      <td>...</td>\n",
       "      <td>...</td>\n",
       "    </tr>\n",
       "    <tr>\n",
       "      <td>9995</td>\n",
       "      <td>2018-06-09</td>\n",
       "      <td>221</td>\n",
       "      <td>COB</td>\n",
       "      <td>HOG</td>\n",
       "      <td>201806</td>\n",
       "      <td>1.0</td>\n",
       "    </tr>\n",
       "    <tr>\n",
       "      <td>9996</td>\n",
       "      <td>2018-08-26</td>\n",
       "      <td>266</td>\n",
       "      <td>EMI</td>\n",
       "      <td>FFULL</td>\n",
       "      <td>201809</td>\n",
       "      <td>1.0</td>\n",
       "    </tr>\n",
       "    <tr>\n",
       "      <td>9997</td>\n",
       "      <td>2018-04-21</td>\n",
       "      <td>269</td>\n",
       "      <td>COB</td>\n",
       "      <td>FFULL</td>\n",
       "      <td>201805</td>\n",
       "      <td>1.0</td>\n",
       "    </tr>\n",
       "    <tr>\n",
       "      <td>9998</td>\n",
       "      <td>2018-04-01</td>\n",
       "      <td>234</td>\n",
       "      <td>EMI</td>\n",
       "      <td>FFULL</td>\n",
       "      <td>201804</td>\n",
       "      <td>1.0</td>\n",
       "    </tr>\n",
       "    <tr>\n",
       "      <td>9999</td>\n",
       "      <td>2018-05-03</td>\n",
       "      <td>200</td>\n",
       "      <td>EMI</td>\n",
       "      <td>ACPC01</td>\n",
       "      <td>201805</td>\n",
       "      <td>1.0</td>\n",
       "    </tr>\n",
       "  </tbody>\n",
       "</table>\n",
       "<p>10000 rows × 6 columns</p>\n",
       "</div>"
      ],
      "text/plain": [
       "          FECHA  MONTO  OPE    PROD  FCORTE  CONT\n",
       "0    2018-01-05    218  COB  ACPC01  201801   1.0\n",
       "1    2018-11-06    180  EMI   FFULL  201811   1.0\n",
       "2    2018-04-20    298  COB  ACPC01  201805   1.0\n",
       "3    2018-03-04    250  COB   FFULL  201803   1.0\n",
       "4    2018-04-14    299  EMI   FFULL  201804   1.0\n",
       "...         ...    ...  ...     ...     ...   ...\n",
       "9995 2018-06-09    221  COB     HOG  201806   1.0\n",
       "9996 2018-08-26    266  EMI   FFULL  201809   1.0\n",
       "9997 2018-04-21    269  COB   FFULL  201805   1.0\n",
       "9998 2018-04-01    234  EMI   FFULL  201804   1.0\n",
       "9999 2018-05-03    200  EMI  ACPC01  201805   1.0\n",
       "\n",
       "[10000 rows x 6 columns]"
      ]
     },
     "execution_count": 86,
     "metadata": {},
     "output_type": "execute_result"
    }
   ],
   "source": [
    "rowcount = 10000\n",
    "startDate = pd.to_datetime('2018-01-01')\n",
    "elapsed = 365\n",
    "\n",
    "operecibos = pd.DataFrame({ 'FECHA': [startDate + timedelta(np.random.randint(1, elapsed)) for i in range(rowcount)],\n",
    "                        'MONTO': np.random.randint(180,300, size = (rowcount,)),\n",
    "                        'OPE': np.random.choice(a = ['EMI', 'COB', 'ANU'], size = rowcount, p = [0.5, 0.45, 0.05]),\n",
    "                        'PROD': np.random.choice(a = ['FFULL', 'HOG', 'ACPC01'], size = rowcount, p = [0.60, 0.05, 0.35]) \n",
    "                      })\n",
    "operecibos['FCORTE'] = operecibos.FECHA.\\\n",
    "    apply(lambda f: f.strftime(\"%Y%m\") if f.day < 17 else (f + pd.DateOffset(months = 1)).strftime(\"%Y%m\"))\n",
    "operecibos['CONT'] = np.ones(operecibos.shape[0])\n",
    "operecibos.sort_index()"
   ]
  },
  {
   "cell_type": "code",
   "execution_count": 87,
   "metadata": {},
   "outputs": [],
   "source": [
    "operecibos['MNT'] = operecibos.apply(\\\n",
    "                        lambda x: x.MONTO if x.OPE == 'EMI' else -x.MONTO, \\\n",
    "                        axis = 1)"
   ]
  },
  {
   "cell_type": "code",
   "execution_count": 88,
   "metadata": {
    "scrolled": true
   },
   "outputs": [
    {
     "data": {
      "text/html": [
       "<div>\n",
       "<style scoped>\n",
       "    .dataframe tbody tr th:only-of-type {\n",
       "        vertical-align: middle;\n",
       "    }\n",
       "\n",
       "    .dataframe tbody tr th {\n",
       "        vertical-align: top;\n",
       "    }\n",
       "\n",
       "    .dataframe thead th {\n",
       "        text-align: right;\n",
       "    }\n",
       "</style>\n",
       "<table border=\"1\" class=\"dataframe\">\n",
       "  <thead>\n",
       "    <tr style=\"text-align: right;\">\n",
       "      <th></th>\n",
       "      <th>FECHA</th>\n",
       "      <th>MONTO</th>\n",
       "      <th>OPE</th>\n",
       "      <th>PROD</th>\n",
       "      <th>FCORTE</th>\n",
       "      <th>CONT</th>\n",
       "      <th>MNT</th>\n",
       "    </tr>\n",
       "  </thead>\n",
       "  <tbody>\n",
       "    <tr>\n",
       "      <td>0</td>\n",
       "      <td>2018-01-05</td>\n",
       "      <td>218</td>\n",
       "      <td>COB</td>\n",
       "      <td>ACPC01</td>\n",
       "      <td>201801</td>\n",
       "      <td>1.0</td>\n",
       "      <td>-218</td>\n",
       "    </tr>\n",
       "    <tr>\n",
       "      <td>1</td>\n",
       "      <td>2018-11-06</td>\n",
       "      <td>180</td>\n",
       "      <td>EMI</td>\n",
       "      <td>FFULL</td>\n",
       "      <td>201811</td>\n",
       "      <td>1.0</td>\n",
       "      <td>180</td>\n",
       "    </tr>\n",
       "    <tr>\n",
       "      <td>2</td>\n",
       "      <td>2018-04-20</td>\n",
       "      <td>298</td>\n",
       "      <td>COB</td>\n",
       "      <td>ACPC01</td>\n",
       "      <td>201805</td>\n",
       "      <td>1.0</td>\n",
       "      <td>-298</td>\n",
       "    </tr>\n",
       "    <tr>\n",
       "      <td>3</td>\n",
       "      <td>2018-03-04</td>\n",
       "      <td>250</td>\n",
       "      <td>COB</td>\n",
       "      <td>FFULL</td>\n",
       "      <td>201803</td>\n",
       "      <td>1.0</td>\n",
       "      <td>-250</td>\n",
       "    </tr>\n",
       "    <tr>\n",
       "      <td>4</td>\n",
       "      <td>2018-04-14</td>\n",
       "      <td>299</td>\n",
       "      <td>EMI</td>\n",
       "      <td>FFULL</td>\n",
       "      <td>201804</td>\n",
       "      <td>1.0</td>\n",
       "      <td>299</td>\n",
       "    </tr>\n",
       "  </tbody>\n",
       "</table>\n",
       "</div>"
      ],
      "text/plain": [
       "       FECHA  MONTO  OPE    PROD  FCORTE  CONT  MNT\n",
       "0 2018-01-05    218  COB  ACPC01  201801   1.0 -218\n",
       "1 2018-11-06    180  EMI   FFULL  201811   1.0  180\n",
       "2 2018-04-20    298  COB  ACPC01  201805   1.0 -298\n",
       "3 2018-03-04    250  COB   FFULL  201803   1.0 -250\n",
       "4 2018-04-14    299  EMI   FFULL  201804   1.0  299"
      ]
     },
     "execution_count": 88,
     "metadata": {},
     "output_type": "execute_result"
    }
   ],
   "source": [
    "operecibos.head()"
   ]
  },
  {
   "cell_type": "code",
   "execution_count": 89,
   "metadata": {},
   "outputs": [
    {
     "data": {
      "text/html": [
       "<div>\n",
       "<style scoped>\n",
       "    .dataframe tbody tr th:only-of-type {\n",
       "        vertical-align: middle;\n",
       "    }\n",
       "\n",
       "    .dataframe tbody tr th {\n",
       "        vertical-align: top;\n",
       "    }\n",
       "\n",
       "    .dataframe thead th {\n",
       "        text-align: right;\n",
       "    }\n",
       "</style>\n",
       "<table border=\"1\" class=\"dataframe\">\n",
       "  <thead>\n",
       "    <tr style=\"text-align: right;\">\n",
       "      <th>OPE</th>\n",
       "      <th>ANU</th>\n",
       "      <th>COB</th>\n",
       "      <th>EMI</th>\n",
       "    </tr>\n",
       "    <tr>\n",
       "      <th>FECHA</th>\n",
       "      <th></th>\n",
       "      <th></th>\n",
       "      <th></th>\n",
       "    </tr>\n",
       "  </thead>\n",
       "  <tbody>\n",
       "    <tr>\n",
       "      <td>2018-01-31</td>\n",
       "      <td>-11584</td>\n",
       "      <td>-95823</td>\n",
       "      <td>93517</td>\n",
       "    </tr>\n",
       "    <tr>\n",
       "      <td>2018-02-28</td>\n",
       "      <td>-6537</td>\n",
       "      <td>-79741</td>\n",
       "      <td>83542</td>\n",
       "    </tr>\n",
       "    <tr>\n",
       "      <td>2018-03-31</td>\n",
       "      <td>-10190</td>\n",
       "      <td>-89683</td>\n",
       "      <td>98827</td>\n",
       "    </tr>\n",
       "    <tr>\n",
       "      <td>2018-04-30</td>\n",
       "      <td>-7791</td>\n",
       "      <td>-89832</td>\n",
       "      <td>96566</td>\n",
       "    </tr>\n",
       "    <tr>\n",
       "      <td>2018-05-31</td>\n",
       "      <td>-10698</td>\n",
       "      <td>-95221</td>\n",
       "      <td>99756</td>\n",
       "    </tr>\n",
       "    <tr>\n",
       "      <td>2018-06-30</td>\n",
       "      <td>-9995</td>\n",
       "      <td>-102817</td>\n",
       "      <td>106222</td>\n",
       "    </tr>\n",
       "    <tr>\n",
       "      <td>2018-07-31</td>\n",
       "      <td>-9502</td>\n",
       "      <td>-82950</td>\n",
       "      <td>105416</td>\n",
       "    </tr>\n",
       "    <tr>\n",
       "      <td>2018-08-31</td>\n",
       "      <td>-12443</td>\n",
       "      <td>-89431</td>\n",
       "      <td>99323</td>\n",
       "    </tr>\n",
       "    <tr>\n",
       "      <td>2018-09-30</td>\n",
       "      <td>-8568</td>\n",
       "      <td>-93740</td>\n",
       "      <td>100794</td>\n",
       "    </tr>\n",
       "    <tr>\n",
       "      <td>2018-10-31</td>\n",
       "      <td>-11292</td>\n",
       "      <td>-89990</td>\n",
       "      <td>110678</td>\n",
       "    </tr>\n",
       "    <tr>\n",
       "      <td>2018-11-30</td>\n",
       "      <td>-9118</td>\n",
       "      <td>-89353</td>\n",
       "      <td>97150</td>\n",
       "    </tr>\n",
       "    <tr>\n",
       "      <td>2018-12-31</td>\n",
       "      <td>-11270</td>\n",
       "      <td>-85436</td>\n",
       "      <td>102292</td>\n",
       "    </tr>\n",
       "  </tbody>\n",
       "</table>\n",
       "</div>"
      ],
      "text/plain": [
       "OPE           ANU     COB     EMI\n",
       "FECHA                            \n",
       "2018-01-31 -11584  -95823   93517\n",
       "2018-02-28  -6537  -79741   83542\n",
       "2018-03-31 -10190  -89683   98827\n",
       "2018-04-30  -7791  -89832   96566\n",
       "2018-05-31 -10698  -95221   99756\n",
       "2018-06-30  -9995 -102817  106222\n",
       "2018-07-31  -9502  -82950  105416\n",
       "2018-08-31 -12443  -89431   99323\n",
       "2018-09-30  -8568  -93740  100794\n",
       "2018-10-31 -11292  -89990  110678\n",
       "2018-11-30  -9118  -89353   97150\n",
       "2018-12-31 -11270  -85436  102292"
      ]
     },
     "execution_count": 89,
     "metadata": {},
     "output_type": "execute_result"
    }
   ],
   "source": [
    "operecibos.pivot_table(values = 'MNT', \\\n",
    "                       index = pd.Grouper(key = 'FECHA', freq = '1M'), \\\n",
    "                       columns = ['OPE'], aggfunc='sum')"
   ]
  },
  {
   "cell_type": "code",
   "execution_count": 90,
   "metadata": {},
   "outputs": [
    {
     "data": {
      "text/html": [
       "<style  type=\"text/css\" >\n",
       "    #T_cca09b9e_2b7b_11ea_9b41_d4d25294cc39row0_col0 {\n",
       "            background-color:  #f7fbff;\n",
       "            color:  #000000;\n",
       "        }    #T_cca09b9e_2b7b_11ea_9b41_d4d25294cc39row1_col0 {\n",
       "            background-color:  #8dc1dd;\n",
       "            color:  #000000;\n",
       "        }    #T_cca09b9e_2b7b_11ea_9b41_d4d25294cc39row2_col0 {\n",
       "            background-color:  #74b3d8;\n",
       "            color:  #000000;\n",
       "        }    #T_cca09b9e_2b7b_11ea_9b41_d4d25294cc39row3_col0 {\n",
       "            background-color:  #74b3d8;\n",
       "            color:  #000000;\n",
       "        }    #T_cca09b9e_2b7b_11ea_9b41_d4d25294cc39row4_col0 {\n",
       "            background-color:  #bad6eb;\n",
       "            color:  #000000;\n",
       "        }    #T_cca09b9e_2b7b_11ea_9b41_d4d25294cc39row5_col0 {\n",
       "            background-color:  #bfd8ed;\n",
       "            color:  #000000;\n",
       "        }    #T_cca09b9e_2b7b_11ea_9b41_d4d25294cc39row6_col0 {\n",
       "            background-color:  #08306b;\n",
       "            color:  #f1f1f1;\n",
       "        }    #T_cca09b9e_2b7b_11ea_9b41_d4d25294cc39row7_col0 {\n",
       "            background-color:  #8abfdd;\n",
       "            color:  #000000;\n",
       "        }    #T_cca09b9e_2b7b_11ea_9b41_d4d25294cc39row8_col0 {\n",
       "            background-color:  #7cb7da;\n",
       "            color:  #000000;\n",
       "        }    #T_cca09b9e_2b7b_11ea_9b41_d4d25294cc39row9_col0 {\n",
       "            background-color:  #0a539e;\n",
       "            color:  #f1f1f1;\n",
       "        }    #T_cca09b9e_2b7b_11ea_9b41_d4d25294cc39row10_col0 {\n",
       "            background-color:  #79b5d9;\n",
       "            color:  #000000;\n",
       "        }    #T_cca09b9e_2b7b_11ea_9b41_d4d25294cc39row11_col0 {\n",
       "            background-color:  #2777b8;\n",
       "            color:  #000000;\n",
       "        }</style><table id=\"T_cca09b9e_2b7b_11ea_9b41_d4d25294cc39\" ><thead>    <tr>        <th class=\"blank level0\" ></th>        <th class=\"col_heading level0 col0\" >MNT</th>    </tr>    <tr>        <th class=\"index_name level0\" >FECHA</th>        <th class=\"blank\" ></th>    </tr></thead><tbody>\n",
       "                <tr>\n",
       "                        <th id=\"T_cca09b9e_2b7b_11ea_9b41_d4d25294cc39level0_row0\" class=\"row_heading level0 row0\" >2018-01-31 00:00:00</th>\n",
       "                        <td id=\"T_cca09b9e_2b7b_11ea_9b41_d4d25294cc39row0_col0\" class=\"data row0 col0\" >-13890</td>\n",
       "            </tr>\n",
       "            <tr>\n",
       "                        <th id=\"T_cca09b9e_2b7b_11ea_9b41_d4d25294cc39level0_row1\" class=\"row_heading level0 row1\" >2018-02-28 00:00:00</th>\n",
       "                        <td id=\"T_cca09b9e_2b7b_11ea_9b41_d4d25294cc39row1_col0\" class=\"data row1 col0\" >-2736</td>\n",
       "            </tr>\n",
       "            <tr>\n",
       "                        <th id=\"T_cca09b9e_2b7b_11ea_9b41_d4d25294cc39level0_row2\" class=\"row_heading level0 row2\" >2018-03-31 00:00:00</th>\n",
       "                        <td id=\"T_cca09b9e_2b7b_11ea_9b41_d4d25294cc39row2_col0\" class=\"data row2 col0\" >-1046</td>\n",
       "            </tr>\n",
       "            <tr>\n",
       "                        <th id=\"T_cca09b9e_2b7b_11ea_9b41_d4d25294cc39level0_row3\" class=\"row_heading level0 row3\" >2018-04-30 00:00:00</th>\n",
       "                        <td id=\"T_cca09b9e_2b7b_11ea_9b41_d4d25294cc39row3_col0\" class=\"data row3 col0\" >-1057</td>\n",
       "            </tr>\n",
       "            <tr>\n",
       "                        <th id=\"T_cca09b9e_2b7b_11ea_9b41_d4d25294cc39level0_row4\" class=\"row_heading level0 row4\" >2018-05-31 00:00:00</th>\n",
       "                        <td id=\"T_cca09b9e_2b7b_11ea_9b41_d4d25294cc39row4_col0\" class=\"data row4 col0\" >-6163</td>\n",
       "            </tr>\n",
       "            <tr>\n",
       "                        <th id=\"T_cca09b9e_2b7b_11ea_9b41_d4d25294cc39level0_row5\" class=\"row_heading level0 row5\" >2018-06-30 00:00:00</th>\n",
       "                        <td id=\"T_cca09b9e_2b7b_11ea_9b41_d4d25294cc39row5_col0\" class=\"data row5 col0\" >-6590</td>\n",
       "            </tr>\n",
       "            <tr>\n",
       "                        <th id=\"T_cca09b9e_2b7b_11ea_9b41_d4d25294cc39level0_row6\" class=\"row_heading level0 row6\" >2018-07-31 00:00:00</th>\n",
       "                        <td id=\"T_cca09b9e_2b7b_11ea_9b41_d4d25294cc39row6_col0\" class=\"data row6 col0\" >12964</td>\n",
       "            </tr>\n",
       "            <tr>\n",
       "                        <th id=\"T_cca09b9e_2b7b_11ea_9b41_d4d25294cc39level0_row7\" class=\"row_heading level0 row7\" >2018-08-31 00:00:00</th>\n",
       "                        <td id=\"T_cca09b9e_2b7b_11ea_9b41_d4d25294cc39row7_col0\" class=\"data row7 col0\" >-2551</td>\n",
       "            </tr>\n",
       "            <tr>\n",
       "                        <th id=\"T_cca09b9e_2b7b_11ea_9b41_d4d25294cc39level0_row8\" class=\"row_heading level0 row8\" >2018-09-30 00:00:00</th>\n",
       "                        <td id=\"T_cca09b9e_2b7b_11ea_9b41_d4d25294cc39row8_col0\" class=\"data row8 col0\" >-1514</td>\n",
       "            </tr>\n",
       "            <tr>\n",
       "                        <th id=\"T_cca09b9e_2b7b_11ea_9b41_d4d25294cc39level0_row9\" class=\"row_heading level0 row9\" >2018-10-31 00:00:00</th>\n",
       "                        <td id=\"T_cca09b9e_2b7b_11ea_9b41_d4d25294cc39row9_col0\" class=\"data row9 col0\" >9396</td>\n",
       "            </tr>\n",
       "            <tr>\n",
       "                        <th id=\"T_cca09b9e_2b7b_11ea_9b41_d4d25294cc39level0_row10\" class=\"row_heading level0 row10\" >2018-11-30 00:00:00</th>\n",
       "                        <td id=\"T_cca09b9e_2b7b_11ea_9b41_d4d25294cc39row10_col0\" class=\"data row10 col0\" >-1321</td>\n",
       "            </tr>\n",
       "            <tr>\n",
       "                        <th id=\"T_cca09b9e_2b7b_11ea_9b41_d4d25294cc39level0_row11\" class=\"row_heading level0 row11\" >2018-12-31 00:00:00</th>\n",
       "                        <td id=\"T_cca09b9e_2b7b_11ea_9b41_d4d25294cc39row11_col0\" class=\"data row11 col0\" >5586</td>\n",
       "            </tr>\n",
       "    </tbody></table>"
      ],
      "text/plain": [
       "<pandas.io.formats.style.Styler at 0x1f84c017a88>"
      ]
     },
     "execution_count": 90,
     "metadata": {},
     "output_type": "execute_result"
    }
   ],
   "source": [
    "pd.DataFrame(operecibos.set_index('FECHA').resample('1M')['MNT'].sum())\\\n",
    "    .style.background_gradient(cmap='Blues')"
   ]
  },
  {
   "cell_type": "code",
   "execution_count": 91,
   "metadata": {},
   "outputs": [
    {
     "data": {
      "text/plain": [
       "<matplotlib.axes._subplots.AxesSubplot at 0x1f84a2ad6c8>"
      ]
     },
     "execution_count": 91,
     "metadata": {},
     "output_type": "execute_result"
    },
    {
     "data": {
      "image/png": "[encoded data removed]",
      "text/plain": [
       "<Figure size 864x288 with 1 Axes>"
      ]
     },
     "metadata": {
      "needs_background": "light"
     },
     "output_type": "display_data"
    }
   ],
   "source": [
    "operecibos.set_index('FECHA').resample('1M')['MNT'].sum().plot(kind = 'bar', figsize = (12,4))"
   ]
  },
  {
   "cell_type": "code",
   "execution_count": 92,
   "metadata": {},
   "outputs": [
    {
     "data": {
      "text/html": [
       "<div>\n",
       "<style scoped>\n",
       "    .dataframe tbody tr th:only-of-type {\n",
       "        vertical-align: middle;\n",
       "    }\n",
       "\n",
       "    .dataframe tbody tr th {\n",
       "        vertical-align: top;\n",
       "    }\n",
       "\n",
       "    .dataframe thead th {\n",
       "        text-align: right;\n",
       "    }\n",
       "</style>\n",
       "<table border=\"1\" class=\"dataframe\">\n",
       "  <thead>\n",
       "    <tr style=\"text-align: right;\">\n",
       "      <th></th>\n",
       "      <th>FECHA</th>\n",
       "      <th>MONTO</th>\n",
       "      <th>OPE</th>\n",
       "      <th>PROD</th>\n",
       "      <th>CONT</th>\n",
       "      <th>MNT</th>\n",
       "    </tr>\n",
       "    <tr>\n",
       "      <th>FCORTE</th>\n",
       "      <th></th>\n",
       "      <th></th>\n",
       "      <th></th>\n",
       "      <th></th>\n",
       "      <th></th>\n",
       "      <th></th>\n",
       "    </tr>\n",
       "  </thead>\n",
       "  <tbody>\n",
       "    <tr>\n",
       "      <td>201801</td>\n",
       "      <td>2018-01-05</td>\n",
       "      <td>218</td>\n",
       "      <td>COB</td>\n",
       "      <td>ACPC01</td>\n",
       "      <td>1.0</td>\n",
       "      <td>-218</td>\n",
       "    </tr>\n",
       "    <tr>\n",
       "      <td>201811</td>\n",
       "      <td>2018-11-06</td>\n",
       "      <td>180</td>\n",
       "      <td>EMI</td>\n",
       "      <td>FFULL</td>\n",
       "      <td>1.0</td>\n",
       "      <td>180</td>\n",
       "    </tr>\n",
       "    <tr>\n",
       "      <td>201805</td>\n",
       "      <td>2018-04-20</td>\n",
       "      <td>298</td>\n",
       "      <td>COB</td>\n",
       "      <td>ACPC01</td>\n",
       "      <td>1.0</td>\n",
       "      <td>-298</td>\n",
       "    </tr>\n",
       "    <tr>\n",
       "      <td>201803</td>\n",
       "      <td>2018-03-04</td>\n",
       "      <td>250</td>\n",
       "      <td>COB</td>\n",
       "      <td>FFULL</td>\n",
       "      <td>1.0</td>\n",
       "      <td>-250</td>\n",
       "    </tr>\n",
       "    <tr>\n",
       "      <td>201804</td>\n",
       "      <td>2018-04-14</td>\n",
       "      <td>299</td>\n",
       "      <td>EMI</td>\n",
       "      <td>FFULL</td>\n",
       "      <td>1.0</td>\n",
       "      <td>299</td>\n",
       "    </tr>\n",
       "    <tr>\n",
       "      <td>201805</td>\n",
       "      <td>2018-04-30</td>\n",
       "      <td>274</td>\n",
       "      <td>EMI</td>\n",
       "      <td>FFULL</td>\n",
       "      <td>1.0</td>\n",
       "      <td>274</td>\n",
       "    </tr>\n",
       "    <tr>\n",
       "      <td>201809</td>\n",
       "      <td>2018-08-19</td>\n",
       "      <td>195</td>\n",
       "      <td>COB</td>\n",
       "      <td>FFULL</td>\n",
       "      <td>1.0</td>\n",
       "      <td>-195</td>\n",
       "    </tr>\n",
       "    <tr>\n",
       "      <td>201805</td>\n",
       "      <td>2018-05-04</td>\n",
       "      <td>186</td>\n",
       "      <td>EMI</td>\n",
       "      <td>ACPC01</td>\n",
       "      <td>1.0</td>\n",
       "      <td>186</td>\n",
       "    </tr>\n",
       "    <tr>\n",
       "      <td>201807</td>\n",
       "      <td>2018-06-25</td>\n",
       "      <td>283</td>\n",
       "      <td>COB</td>\n",
       "      <td>FFULL</td>\n",
       "      <td>1.0</td>\n",
       "      <td>-283</td>\n",
       "    </tr>\n",
       "    <tr>\n",
       "      <td>201807</td>\n",
       "      <td>2018-07-04</td>\n",
       "      <td>180</td>\n",
       "      <td>COB</td>\n",
       "      <td>FFULL</td>\n",
       "      <td>1.0</td>\n",
       "      <td>-180</td>\n",
       "    </tr>\n",
       "  </tbody>\n",
       "</table>\n",
       "</div>"
      ],
      "text/plain": [
       "            FECHA  MONTO  OPE    PROD  CONT  MNT\n",
       "FCORTE                                          \n",
       "201801 2018-01-05    218  COB  ACPC01   1.0 -218\n",
       "201811 2018-11-06    180  EMI   FFULL   1.0  180\n",
       "201805 2018-04-20    298  COB  ACPC01   1.0 -298\n",
       "201803 2018-03-04    250  COB   FFULL   1.0 -250\n",
       "201804 2018-04-14    299  EMI   FFULL   1.0  299\n",
       "201805 2018-04-30    274  EMI   FFULL   1.0  274\n",
       "201809 2018-08-19    195  COB   FFULL   1.0 -195\n",
       "201805 2018-05-04    186  EMI  ACPC01   1.0  186\n",
       "201807 2018-06-25    283  COB   FFULL   1.0 -283\n",
       "201807 2018-07-04    180  COB   FFULL   1.0 -180"
      ]
     },
     "execution_count": 92,
     "metadata": {},
     "output_type": "execute_result"
    }
   ],
   "source": [
    "operecibos.set_index('FCORTE').iloc[:10,:]"
   ]
  },
  {
   "cell_type": "code",
   "execution_count": 93,
   "metadata": {
    "scrolled": true
   },
   "outputs": [
    {
     "data": {
      "text/html": [
       "<div>\n",
       "<style scoped>\n",
       "    .dataframe tbody tr th:only-of-type {\n",
       "        vertical-align: middle;\n",
       "    }\n",
       "\n",
       "    .dataframe tbody tr th {\n",
       "        vertical-align: top;\n",
       "    }\n",
       "\n",
       "    .dataframe thead th {\n",
       "        text-align: right;\n",
       "    }\n",
       "</style>\n",
       "<table border=\"1\" class=\"dataframe\">\n",
       "  <thead>\n",
       "    <tr style=\"text-align: right;\">\n",
       "      <th>OPE</th>\n",
       "      <th>ANU</th>\n",
       "      <th>COB</th>\n",
       "      <th>EMI</th>\n",
       "    </tr>\n",
       "    <tr>\n",
       "      <th>FECHA</th>\n",
       "      <th></th>\n",
       "      <th></th>\n",
       "      <th></th>\n",
       "    </tr>\n",
       "  </thead>\n",
       "  <tbody>\n",
       "    <tr>\n",
       "      <td>2018-01-31</td>\n",
       "      <td>-11584</td>\n",
       "      <td>-95823</td>\n",
       "      <td>93517</td>\n",
       "    </tr>\n",
       "    <tr>\n",
       "      <td>2018-02-28</td>\n",
       "      <td>-6537</td>\n",
       "      <td>-79741</td>\n",
       "      <td>83542</td>\n",
       "    </tr>\n",
       "    <tr>\n",
       "      <td>2018-03-31</td>\n",
       "      <td>-10190</td>\n",
       "      <td>-89683</td>\n",
       "      <td>98827</td>\n",
       "    </tr>\n",
       "    <tr>\n",
       "      <td>2018-04-30</td>\n",
       "      <td>-7791</td>\n",
       "      <td>-89832</td>\n",
       "      <td>96566</td>\n",
       "    </tr>\n",
       "    <tr>\n",
       "      <td>2018-05-31</td>\n",
       "      <td>-10698</td>\n",
       "      <td>-95221</td>\n",
       "      <td>99756</td>\n",
       "    </tr>\n",
       "  </tbody>\n",
       "</table>\n",
       "</div>"
      ],
      "text/plain": [
       "OPE           ANU    COB    EMI\n",
       "FECHA                          \n",
       "2018-01-31 -11584 -95823  93517\n",
       "2018-02-28  -6537 -79741  83542\n",
       "2018-03-31 -10190 -89683  98827\n",
       "2018-04-30  -7791 -89832  96566\n",
       "2018-05-31 -10698 -95221  99756"
      ]
     },
     "execution_count": 93,
     "metadata": {},
     "output_type": "execute_result"
    }
   ],
   "source": [
    "frame = operecibos.pivot_table(values = 'MNT', \\\n",
    "                       index = pd.Grouper(key = 'FECHA', freq = '1M'), \\\n",
    "                       columns = ['OPE'], aggfunc='sum')\n",
    "frame.head()"
   ]
  },
  {
   "cell_type": "code",
   "execution_count": 104,
   "metadata": {},
   "outputs": [
    {
     "data": {
      "text/html": [
       "<div>\n",
       "<style scoped>\n",
       "    .dataframe tbody tr th:only-of-type {\n",
       "        vertical-align: middle;\n",
       "    }\n",
       "\n",
       "    .dataframe tbody tr th {\n",
       "        vertical-align: top;\n",
       "    }\n",
       "\n",
       "    .dataframe thead th {\n",
       "        text-align: right;\n",
       "    }\n",
       "</style>\n",
       "<table border=\"1\" class=\"dataframe\">\n",
       "  <thead>\n",
       "    <tr style=\"text-align: right;\">\n",
       "      <th></th>\n",
       "      <th>FECHA</th>\n",
       "      <th>MONTO</th>\n",
       "      <th>CONT</th>\n",
       "      <th>MNT</th>\n",
       "    </tr>\n",
       "  </thead>\n",
       "  <tbody>\n",
       "    <tr>\n",
       "      <td>0</td>\n",
       "      <td>2018-01-05</td>\n",
       "      <td>NaN</td>\n",
       "      <td>NaN</td>\n",
       "      <td>NaN</td>\n",
       "    </tr>\n",
       "    <tr>\n",
       "      <td>1</td>\n",
       "      <td>2018-11-06</td>\n",
       "      <td>NaN</td>\n",
       "      <td>NaN</td>\n",
       "      <td>NaN</td>\n",
       "    </tr>\n",
       "    <tr>\n",
       "      <td>2</td>\n",
       "      <td>2018-04-20</td>\n",
       "      <td>NaN</td>\n",
       "      <td>NaN</td>\n",
       "      <td>NaN</td>\n",
       "    </tr>\n",
       "    <tr>\n",
       "      <td>3</td>\n",
       "      <td>2018-03-04</td>\n",
       "      <td>NaN</td>\n",
       "      <td>NaN</td>\n",
       "      <td>NaN</td>\n",
       "    </tr>\n",
       "    <tr>\n",
       "      <td>4</td>\n",
       "      <td>2018-04-14</td>\n",
       "      <td>NaN</td>\n",
       "      <td>NaN</td>\n",
       "      <td>NaN</td>\n",
       "    </tr>\n",
       "    <tr>\n",
       "      <td>...</td>\n",
       "      <td>...</td>\n",
       "      <td>...</td>\n",
       "      <td>...</td>\n",
       "      <td>...</td>\n",
       "    </tr>\n",
       "    <tr>\n",
       "      <td>9995</td>\n",
       "      <td>2018-06-09</td>\n",
       "      <td>219.0</td>\n",
       "      <td>1.0</td>\n",
       "      <td>-33.6</td>\n",
       "    </tr>\n",
       "    <tr>\n",
       "      <td>9996</td>\n",
       "      <td>2018-08-26</td>\n",
       "      <td>226.3</td>\n",
       "      <td>1.0</td>\n",
       "      <td>12.3</td>\n",
       "    </tr>\n",
       "    <tr>\n",
       "      <td>9997</td>\n",
       "      <td>2018-04-21</td>\n",
       "      <td>234.3</td>\n",
       "      <td>1.0</td>\n",
       "      <td>4.3</td>\n",
       "    </tr>\n",
       "    <tr>\n",
       "      <td>9998</td>\n",
       "      <td>2018-04-01</td>\n",
       "      <td>228.2</td>\n",
       "      <td>1.0</td>\n",
       "      <td>-1.8</td>\n",
       "    </tr>\n",
       "    <tr>\n",
       "      <td>9999</td>\n",
       "      <td>2018-05-03</td>\n",
       "      <td>227.4</td>\n",
       "      <td>1.0</td>\n",
       "      <td>-2.6</td>\n",
       "    </tr>\n",
       "  </tbody>\n",
       "</table>\n",
       "<p>10000 rows × 4 columns</p>\n",
       "</div>"
      ],
      "text/plain": [
       "          FECHA  MONTO  CONT   MNT\n",
       "0    2018-01-05    NaN   NaN   NaN\n",
       "1    2018-11-06    NaN   NaN   NaN\n",
       "2    2018-04-20    NaN   NaN   NaN\n",
       "3    2018-03-04    NaN   NaN   NaN\n",
       "4    2018-04-14    NaN   NaN   NaN\n",
       "...         ...    ...   ...   ...\n",
       "9995 2018-06-09  219.0   1.0 -33.6\n",
       "9996 2018-08-26  226.3   1.0  12.3\n",
       "9997 2018-04-21  234.3   1.0   4.3\n",
       "9998 2018-04-01  228.2   1.0  -1.8\n",
       "9999 2018-05-03  227.4   1.0  -2.6\n",
       "\n",
       "[10000 rows x 4 columns]"
      ]
     },
     "execution_count": 104,
     "metadata": {},
     "output_type": "execute_result"
    }
   ],
   "source": [
    "operecibos.rolling(10, on = 'FECHA').mean()"
   ]
  },
  {
   "cell_type": "code",
   "execution_count": 110,
   "metadata": {
    "scrolled": true
   },
   "outputs": [
    {
     "data": {
      "text/plain": [
       "<matplotlib.axes._subplots.AxesSubplot at 0x1f851802fc8>"
      ]
     },
     "execution_count": 110,
     "metadata": {},
     "output_type": "execute_result"
    },
    {
     "data": {
      "image/png": "[encoded data removed]",
      "text/plain": [
       "<Figure size 1080x360 with 1 Axes>"
      ]
     },
     "metadata": {
      "needs_background": "light"
     },
     "output_type": "display_data"
    }
   ],
   "source": [
    "(operecibos[operecibos.OPE == 'ANU'].groupby('FECHA').sum()['MNT']*(-1)).plot(figsize = (15,5))\n",
    "(operecibos[operecibos.OPE == 'COB'].groupby('FECHA').sum()['MNT']*(-1)).plot(figsize = (15,5))\n",
    "operecibos[operecibos.OPE == 'EMI'].groupby('FECHA').sum()['MNT'].plot(figsize = (15,5))"
   ]
  },
  {
   "cell_type": "code",
   "execution_count": 73,
   "metadata": {},
   "outputs": [
    {
     "data": {
      "text/plain": [
       "<matplotlib.axes._subplots.AxesSubplot at 0x1f849726d08>"
      ]
     },
     "execution_count": 73,
     "metadata": {},
     "output_type": "execute_result"
    },
    {
     "data": {
      "image/png": "[encoded data removed]",
      "text/plain": [
       "<Figure size 1080x360 with 1 Axes>"
      ]
     },
     "metadata": {
      "needs_background": "light"
     },
     "output_type": "display_data"
    }
   ],
   "source": [
    "(operecibos[operecibos.OPE == 'ANU'].groupby('FECHA').sum()['MNT']*(-1)).cumsum().plot(figsize = (15,5))\n",
    "(operecibos[operecibos.OPE == 'COB'].groupby('FECHA').sum()['MNT']*(-1)).cumsum().plot(figsize = (15,5))\n",
    "operecibos[operecibos.OPE == 'EMI'].groupby('FECHA').sum()['MNT'].cumsum().plot(figsize = (15,5))\n"
   ]
  },
  {
   "cell_type": "code",
   "execution_count": 68,
   "metadata": {},
   "outputs": [
    {
     "data": {
      "text/plain": [
       "<matplotlib.axes._subplots.AxesSubplot at 0x1f83ed7d8c8>"
      ]
     },
     "execution_count": 68,
     "metadata": {},
     "output_type": "execute_result"
    },
    {
     "data": {
      "image/png": "[encoded data removed]",
      "text/plain": [
       "<Figure size 432x288 with 1 Axes>"
      ]
     },
     "metadata": {
      "needs_background": "light"
     },
     "output_type": "display_data"
    }
   ],
   "source": [
    "(operecibos[operecibos.OPE == 'ANU'].groupby(pd.Grouper(key = 'FECHA', freq = '1W')).sum()['MNT']*(-1)).cumsum().plot()\n",
    "operecibos[operecibos.OPE == 'EMI'].groupby(pd.Grouper(key = 'FECHA', freq = '1W')).sum()['MNT'].cumsum().plot()\n",
    "(operecibos[operecibos.OPE == 'COB'].groupby(pd.Grouper(key = 'FECHA', freq = '1W')).sum()['MNT']*(-1)).cumsum().plot()"
   ]
  },
  {
   "cell_type": "code",
   "execution_count": 69,
   "metadata": {},
   "outputs": [
    {
     "data": {
      "text/plain": [
       "<matplotlib.axes._subplots.AxesSubplot at 0x1f849dcc2c8>"
      ]
     },
     "execution_count": 69,
     "metadata": {},
     "output_type": "execute_result"
    },
    {
     "data": {
      "image/png": "[encoded data removed]",
      "text/plain": [
       "<Figure size 432x288 with 1 Axes>"
      ]
     },
     "metadata": {
      "needs_background": "light"
     },
     "output_type": "display_data"
    }
   ],
   "source": [
    "operecibos[operecibos.OPE == 'ANU'].set_index('FCORTE').groupby('FCORTE').sum()['MNT'].cumsum().plot()\n",
    "operecibos[operecibos.OPE == 'EMI'].set_index('FCORTE').groupby('FCORTE').sum()['MNT'].cumsum().plot()\n",
    "operecibos[operecibos.OPE == 'COB'].set_index('FCORTE').groupby('FCORTE').sum()['MNT'].cumsum().plot()"
   ]
  },
  {
   "cell_type": "code",
   "execution_count": 111,
   "metadata": {
    "scrolled": false
   },
   "outputs": [
    {
     "data": {
      "text/plain": [
       "<matplotlib.axes._subplots.AxesSubplot at 0x1f85189ca08>"
      ]
     },
     "execution_count": 111,
     "metadata": {},
     "output_type": "execute_result"
    },
    {
     "data": {
      "image/png": "[encoded data removed]",
      "text/plain": [
       "<Figure size 1080x360 with 1 Axes>"
      ]
     },
     "metadata": {
      "needs_background": "light"
     },
     "output_type": "display_data"
    }
   ],
   "source": [
    "operecibos.set_index('FCORTE').MNT.cumsum().plot(figsize = (15,5))"
   ]
  },
  {
   "cell_type": "code",
   "execution_count": 112,
   "metadata": {},
   "outputs": [
    {
     "data": {
      "text/html": [
       "<style  type=\"text/css\" >\n",
       "    #T_65f4f914_2b7d_11ea_97e8_d4d25294cc39row0_col0 {\n",
       "            background-color:  #f7fbff;\n",
       "            color:  #000000;\n",
       "            color:  red;\n",
       "        }    #T_65f4f914_2b7d_11ea_97e8_d4d25294cc39row0_col1 {\n",
       "            color:  red;\n",
       "        }    #T_65f4f914_2b7d_11ea_97e8_d4d25294cc39row1_col0 {\n",
       "            background-color:  #08306b;\n",
       "            color:  #f1f1f1;\n",
       "            color:  red;\n",
       "        }    #T_65f4f914_2b7d_11ea_97e8_d4d25294cc39row1_col1 {\n",
       "            color:  red;\n",
       "        }    #T_65f4f914_2b7d_11ea_97e8_d4d25294cc39row2_col0 {\n",
       "            background-color:  #bed8ec;\n",
       "            color:  #000000;\n",
       "            color:  red;\n",
       "        }    #T_65f4f914_2b7d_11ea_97e8_d4d25294cc39row2_col1 {\n",
       "            color:  red;\n",
       "        }    #T_65f4f914_2b7d_11ea_97e8_d4d25294cc39row3_col0 {\n",
       "            background-color:  #2070b4;\n",
       "            color:  #f1f1f1;\n",
       "            color:  red;\n",
       "        }    #T_65f4f914_2b7d_11ea_97e8_d4d25294cc39row3_col1 {\n",
       "            color:  red;\n",
       "        }    #T_65f4f914_2b7d_11ea_97e8_d4d25294cc39row4_col0 {\n",
       "            background-color:  #d5e5f4;\n",
       "            color:  #000000;\n",
       "            color:  red;\n",
       "        }    #T_65f4f914_2b7d_11ea_97e8_d4d25294cc39row4_col1 {\n",
       "            color:  red;\n",
       "        }</style><table id=\"T_65f4f914_2b7d_11ea_97e8_d4d25294cc39\" ><thead>    <tr>        <th class=\"index_name level0\" >OPE</th>        <th class=\"col_heading level0 col0\" >ANU</th>        <th class=\"col_heading level0 col1\" >COB</th>        <th class=\"col_heading level0 col2\" >EMI</th>    </tr>    <tr>        <th class=\"index_name level0\" >FECHA</th>        <th class=\"blank\" ></th>        <th class=\"blank\" ></th>        <th class=\"blank\" ></th>    </tr></thead><tbody>\n",
       "                <tr>\n",
       "                        <th id=\"T_65f4f914_2b7d_11ea_97e8_d4d25294cc39level0_row0\" class=\"row_heading level0 row0\" >2018-01-31 00:00:00</th>\n",
       "                        <td id=\"T_65f4f914_2b7d_11ea_97e8_d4d25294cc39row0_col0\" class=\"data row0 col0\" >-11584</td>\n",
       "                        <td id=\"T_65f4f914_2b7d_11ea_97e8_d4d25294cc39row0_col1\" class=\"data row0 col1\" >-95823</td>\n",
       "                        <td id=\"T_65f4f914_2b7d_11ea_97e8_d4d25294cc39row0_col2\" class=\"data row0 col2\" >$              93,517</td>\n",
       "            </tr>\n",
       "            <tr>\n",
       "                        <th id=\"T_65f4f914_2b7d_11ea_97e8_d4d25294cc39level0_row1\" class=\"row_heading level0 row1\" >2018-02-28 00:00:00</th>\n",
       "                        <td id=\"T_65f4f914_2b7d_11ea_97e8_d4d25294cc39row1_col0\" class=\"data row1 col0\" >-6537</td>\n",
       "                        <td id=\"T_65f4f914_2b7d_11ea_97e8_d4d25294cc39row1_col1\" class=\"data row1 col1\" >-79741</td>\n",
       "                        <td id=\"T_65f4f914_2b7d_11ea_97e8_d4d25294cc39row1_col2\" class=\"data row1 col2\" >$              83,542</td>\n",
       "            </tr>\n",
       "            <tr>\n",
       "                        <th id=\"T_65f4f914_2b7d_11ea_97e8_d4d25294cc39level0_row2\" class=\"row_heading level0 row2\" >2018-03-31 00:00:00</th>\n",
       "                        <td id=\"T_65f4f914_2b7d_11ea_97e8_d4d25294cc39row2_col0\" class=\"data row2 col0\" >-10190</td>\n",
       "                        <td id=\"T_65f4f914_2b7d_11ea_97e8_d4d25294cc39row2_col1\" class=\"data row2 col1\" >-89683</td>\n",
       "                        <td id=\"T_65f4f914_2b7d_11ea_97e8_d4d25294cc39row2_col2\" class=\"data row2 col2\" >$              98,827</td>\n",
       "            </tr>\n",
       "            <tr>\n",
       "                        <th id=\"T_65f4f914_2b7d_11ea_97e8_d4d25294cc39level0_row3\" class=\"row_heading level0 row3\" >2018-04-30 00:00:00</th>\n",
       "                        <td id=\"T_65f4f914_2b7d_11ea_97e8_d4d25294cc39row3_col0\" class=\"data row3 col0\" >-7791</td>\n",
       "                        <td id=\"T_65f4f914_2b7d_11ea_97e8_d4d25294cc39row3_col1\" class=\"data row3 col1\" >-89832</td>\n",
       "                        <td id=\"T_65f4f914_2b7d_11ea_97e8_d4d25294cc39row3_col2\" class=\"data row3 col2\" >$              96,566</td>\n",
       "            </tr>\n",
       "            <tr>\n",
       "                        <th id=\"T_65f4f914_2b7d_11ea_97e8_d4d25294cc39level0_row4\" class=\"row_heading level0 row4\" >2018-05-31 00:00:00</th>\n",
       "                        <td id=\"T_65f4f914_2b7d_11ea_97e8_d4d25294cc39row4_col0\" class=\"data row4 col0\" >-10698</td>\n",
       "                        <td id=\"T_65f4f914_2b7d_11ea_97e8_d4d25294cc39row4_col1\" class=\"data row4 col1\" >-95221</td>\n",
       "                        <td id=\"T_65f4f914_2b7d_11ea_97e8_d4d25294cc39row4_col2\" class=\"data row4 col2\" >$              99,756</td>\n",
       "            </tr>\n",
       "    </tbody></table>"
      ],
      "text/plain": [
       "<pandas.io.formats.style.Styler at 0x1f8519219c8>"
      ]
     },
     "execution_count": 112,
     "metadata": {},
     "output_type": "execute_result"
    }
   ],
   "source": [
    "frame.head().style.background_gradient(cmap='Blues', subset = ['ANU'])\\\n",
    "                    .applymap(lambda v: 'color: red' if v < 0 else 'color black')\\\n",
    "                    .format(\"${:20,.0f}\", subset = ['EMI'])"
   ]
  },
  {
   "cell_type": "code",
   "execution_count": null,
   "metadata": {},
   "outputs": [],
   "source": []
  }
 ],
 "metadata": {
  "kernelspec": {
   "display_name": "Python 3",
   "language": "python",
   "name": "python3"
  },
  "language_info": {
   "codemirror_mode": {
    "name": "ipython",
    "version": 3
   },
   "file_extension": ".py",
   "mimetype": "text/x-python",
   "name": "python",
   "nbconvert_exporter": "python",
   "pygments_lexer": "ipython3",
   "version": "3.7.4"
  }
 },
 "nbformat": 4,
 "nbformat_minor": 2
}
